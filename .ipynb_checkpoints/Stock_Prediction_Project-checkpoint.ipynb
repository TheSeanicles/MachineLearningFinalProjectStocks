{
 "cells": [
  {
   "cell_type": "markdown",
   "id": "ntAlcZeh2kPa",
   "metadata": {
    "id": "ntAlcZeh2kPa"
   },
   "source": [
    "# Importing Libraries"
   ]
  },
  {
   "cell_type": "code",
   "execution_count": 1,
   "id": "9QJNYhVUx7mf",
   "metadata": {
    "id": "9QJNYhVUx7mf"
   },
   "outputs": [
    {
     "ename": "ModuleNotFoundError",
     "evalue": "No module named 'seaborn'",
     "output_type": "error",
     "traceback": [
      "\u001b[0;31m---------------------------------------------------------------------------\u001b[0m",
      "\u001b[0;31mModuleNotFoundError\u001b[0m                       Traceback (most recent call last)",
      "Cell \u001b[0;32mIn[1], line 2\u001b[0m\n\u001b[1;32m      1\u001b[0m \u001b[38;5;28;01mimport\u001b[39;00m \u001b[38;5;21;01myfinance\u001b[39;00m \u001b[38;5;28;01mas\u001b[39;00m \u001b[38;5;21;01myf\u001b[39;00m\n\u001b[0;32m----> 2\u001b[0m \u001b[38;5;28;01mimport\u001b[39;00m \u001b[38;5;21;01mseaborn\u001b[39;00m \u001b[38;5;28;01mas\u001b[39;00m \u001b[38;5;21;01msns\u001b[39;00m\n\u001b[1;32m      3\u001b[0m \u001b[38;5;28;01mimport\u001b[39;00m \u001b[38;5;21;01mmatplotlib\u001b[39;00m\u001b[38;5;21;01m.\u001b[39;00m\u001b[38;5;21;01mpyplot\u001b[39;00m \u001b[38;5;28;01mas\u001b[39;00m \u001b[38;5;21;01mplt\u001b[39;00m\n\u001b[1;32m      4\u001b[0m \u001b[38;5;28;01mimport\u001b[39;00m \u001b[38;5;21;01mpandas\u001b[39;00m \u001b[38;5;28;01mas\u001b[39;00m \u001b[38;5;21;01mpd\u001b[39;00m\n",
      "\u001b[0;31mModuleNotFoundError\u001b[0m: No module named 'seaborn'"
     ]
    }
   ],
   "source": [
    "import yfinance as yf\n",
    "import matplotlib.pyplot as plt\n",
    "import pandas as pd\n",
    "import numpy as np\n",
    "from datetime import datetime\n",
    "from sklearn.metrics import mean_absolute_error, mean_squared_error\n",
    "from sklearn.preprocessing import MinMaxScaler\n",
    "from sklearn.model_selection import train_test_split\n",
    "from sklearn.linear_model import LinearRegression\n",
    "from keras.models import Sequential\n",
    "from keras.layers import Dense, LSTM\n",
    "import statsmodels.api as sm\n",
    "\n",
    "import warnings\n",
    "warnings.filterwarnings('ignore')"
   ]
  },
  {
   "cell_type": "markdown",
   "id": "WZqIOxCM2q0o",
   "metadata": {
    "id": "WZqIOxCM2q0o"
   },
   "source": [
    "# Getting Data\n",
    "Stock price data with yahoo finance api for the last 10 years."
   ]
  },
  {
   "cell_type": "code",
   "execution_count": null,
   "id": "4e690140",
   "metadata": {
    "colab": {
     "base_uri": "https://localhost:8080/"
    },
    "id": "4e690140",
    "outputId": "0686cfd8-6db3-4439-86a4-0e55154a20b4"
   },
   "outputs": [],
   "source": [
    "company_name_list = ['MSFT', 'TSLA', 'CRM', 'AAL']\n",
    "start_time = datetime(2012,1,1)\n",
    "end_time = datetime.now()\n",
    "for list_stock in company_name_list:\n",
    "    globals()[list_stock] = yf.download(list_stock, start_time, end_time)"
   ]
  },
  {
   "cell_type": "code",
   "execution_count": null,
   "id": "856bb3b6",
   "metadata": {
    "colab": {
     "base_uri": "https://localhost:8080/",
     "height": 394
    },
    "id": "856bb3b6",
    "outputId": "f9225a95-a54f-48ee-d448-86c0fd8b168e",
    "scrolled": true
   },
   "outputs": [],
   "source": [
    "symbol_list = [MSFT, TSLA, CRM, AAL]\n",
    "company_name_list = [\"Microsoft\", \"Tesla\", \"Saleforce\", \"American_Airlines\"]\n",
    "\n",
    "for company, company_name_list in zip(symbol_list, company_name_list):\n",
    "    company[\"company_name_list\"] = company_name_list\n",
    "    \n",
    "df = pd.concat(symbol_list, axis=0)\n",
    "df.head(10)"
   ]
  },
  {
   "cell_type": "code",
   "execution_count": null,
   "id": "955e89a5",
   "metadata": {
    "id": "955e89a5"
   },
   "outputs": [],
   "source": [
    "microsoft=df[df['company_name_list']=='Microsoft']"
   ]
  },
  {
   "cell_type": "code",
   "execution_count": null,
   "id": "7754b0b6",
   "metadata": {
    "id": "7754b0b6"
   },
   "outputs": [],
   "source": [
    "microsoft.drop(columns='company_name_list',inplace=True)"
   ]
  },
  {
   "cell_type": "code",
   "execution_count": null,
   "id": "aa0d6e89",
   "metadata": {
    "colab": {
     "base_uri": "https://localhost:8080/",
     "height": 237
    },
    "id": "aa0d6e89",
    "outputId": "0f99428e-3c06-4662-f005-50996bb08d86"
   },
   "outputs": [],
   "source": [
    "microsoft.head()"
   ]
  },
  {
   "cell_type": "code",
   "execution_count": null,
   "id": "e635484b",
   "metadata": {
    "colab": {
     "base_uri": "https://localhost:8080/",
     "height": 300
    },
    "id": "e635484b",
    "outputId": "a4ca1c23-8662-4aba-d5b4-c43d8f5712e8",
    "scrolled": true
   },
   "outputs": [],
   "source": [
    "microsoft.describe()"
   ]
  },
  {
   "cell_type": "code",
   "execution_count": null,
   "id": "774d2c4a",
   "metadata": {
    "colab": {
     "base_uri": "https://localhost:8080/"
    },
    "id": "774d2c4a",
    "outputId": "df60dbd5-b4fc-4e05-e89b-b6dcc811cce8"
   },
   "outputs": [],
   "source": [
    "microsoft.columns"
   ]
  },
  {
   "cell_type": "code",
   "execution_count": null,
   "id": "EOjKG1LOzZop",
   "metadata": {
    "colab": {
     "base_uri": "https://localhost:8080/",
     "height": 423
    },
    "id": "EOjKG1LOzZop",
    "outputId": "38e8edce-6f30-4265-be0a-dd5e09024929"
   },
   "outputs": [],
   "source": [
    "plt.figure(figsize=(15,7))\n",
    "microsoft.Close.plot(kind='line')\n",
    "plt.ylabel('Close Price')\n",
    "plt.xlabel(None)\n",
    "plt.title(\"Closing Price of Microsoft\",fontsize=20)\n",
    "plt.show()"
   ]
  },
  {
   "cell_type": "markdown",
   "id": "UYmd0Zdg44HW",
   "metadata": {
    "id": "UYmd0Zdg44HW"
   },
   "source": [
    "# Preprocessing"
   ]
  },
  {
   "cell_type": "code",
   "execution_count": null,
   "id": "uvS86rCJ5UjH",
   "metadata": {
    "colab": {
     "base_uri": "https://localhost:8080/",
     "height": 449
    },
    "id": "uvS86rCJ5UjH",
    "outputId": "d2260a32-17e2-4702-8d20-2be2cf34e6ff"
   },
   "outputs": [],
   "source": [
    "plt.figure(figsize=(15,7))\n",
    "microsoft.Close.plot(kind='hist')\n",
    "plt.ylabel('Close Price')\n",
    "plt.xlabel(None)\n",
    "plt.title(\"Distribution of Closing Price\",fontsize=20)\n",
    "plt.show()"
   ]
  },
  {
   "cell_type": "code",
   "execution_count": null,
   "id": "vKTcdh9ukteO",
   "metadata": {
    "colab": {
     "base_uri": "https://localhost:8080/"
    },
    "id": "vKTcdh9ukteO",
    "outputId": "53367700-ba7c-4d3c-f934-298196030598"
   },
   "outputs": [],
   "source": [
    "dataset = microsoft.filter(['Close']).values\n",
    "training_data_len = int(np.ceil( len(dataset) * .95 ))\n",
    "training_data_len"
   ]
  },
  {
   "cell_type": "code",
   "execution_count": null,
   "id": "ByxZCU4PmOTn",
   "metadata": {
    "colab": {
     "base_uri": "https://localhost:8080/"
    },
    "id": "ByxZCU4PmOTn",
    "outputId": "2dade3ea-c6ec-40b3-ac5a-2907cc911b28"
   },
   "outputs": [],
   "source": [
    "#scaling data\n",
    "scaler = MinMaxScaler(feature_range=(0,1))\n",
    "scaled_data = scaler.fit_transform(dataset)\n",
    "scaled_data"
   ]
  },
  {
   "cell_type": "markdown",
   "id": "NJB3KV2159rN",
   "metadata": {
    "id": "NJB3KV2159rN"
   },
   "source": [
    "# Train Test Split\n",
    "Train test split is a model validation procedure that reveals how your model performs on new data."
   ]
  },
  {
   "cell_type": "code",
   "execution_count": null,
   "id": "KfykqCocmQe4",
   "metadata": {
    "id": "KfykqCocmQe4"
   },
   "outputs": [],
   "source": [
    "train_data = scaled_data[0:int(training_data_len), :]\n",
    "x_train = []\n",
    "y_train = []\n",
    "for value in range(60, len(train_data)):\n",
    "    x_train.append(train_data[value-60:value, 0])\n",
    "    y_train.append(train_data[value, 0])"
   ]
  },
  {
   "cell_type": "code",
   "execution_count": null,
   "id": "zF7piJs-o8nk",
   "metadata": {
    "id": "zF7piJs-o8nk"
   },
   "outputs": [],
   "source": [
    "x_train, y_train = np.array(x_train), np.array(y_train)\n",
    "x_train = np.reshape(x_train, (x_train.shape[0], x_train.shape[1], 1))"
   ]
  },
  {
   "cell_type": "code",
   "execution_count": null,
   "id": "yIQvibdtmXmO",
   "metadata": {
    "colab": {
     "base_uri": "https://localhost:8080/"
    },
    "id": "yIQvibdtmXmO",
    "outputId": "8c59741e-f27e-4815-ef34-a32dc9a88e2f"
   },
   "outputs": [],
   "source": [
    "#Buildin the LSTM architecture\n",
    "model = Sequential()\n",
    "# First LSTM layer with Dropout regularisation\n",
    "model.add(LSTM(128, return_sequences=True, input_shape= (x_train.shape[1], 1)))\n",
    "# Second LSTM layer\n",
    "model.add(LSTM(64, return_sequences=False))\n",
    "# Third LSTM layer\n",
    "model.add(Dense(25))\n",
    "# The output layer\n",
    "model.add(Dense(1))\n",
    "print(model.summary())"
   ]
  },
  {
   "cell_type": "code",
   "execution_count": null,
   "id": "PfTDVcPupB4i",
   "metadata": {
    "id": "PfTDVcPupB4i"
   },
   "outputs": [],
   "source": [
    "# Compile \n",
    "model.compile(optimizer='adam', loss='mean_squared_error')"
   ]
  },
  {
   "cell_type": "code",
   "execution_count": null,
   "id": "BgnlmwYgpEbx",
   "metadata": {
    "colab": {
     "base_uri": "https://localhost:8080/"
    },
    "id": "BgnlmwYgpEbx",
    "outputId": "aaf9a555-da47-4791-da03-cc9eec7674d6"
   },
   "outputs": [],
   "source": [
    "#Last step.Fit model to the train set\n",
    "model.fit(x_train, y_train, batch_size=1, epochs=1)"
   ]
  },
  {
   "cell_type": "code",
   "execution_count": null,
   "id": "ba6qTI3_mbrA",
   "metadata": {
    "id": "ba6qTI3_mbrA"
   },
   "outputs": [],
   "source": [
    "# Create the testing data set\n",
    "test_data = scaled_data[training_data_len - 60: , :]\n",
    "x_test = []\n",
    "y_test = dataset[training_data_len:, :]\n",
    "for value in range(60, len(test_data)):\n",
    "    x_test.append(test_data[value-60:value, 0])"
   ]
  },
  {
   "cell_type": "code",
   "execution_count": null,
   "id": "mwWqwmhcpJ4a",
   "metadata": {
    "id": "mwWqwmhcpJ4a"
   },
   "outputs": [],
   "source": [
    "# Convert the data to a numpy array\n",
    "x_test = np.array(x_test)\n",
    "x_test = np.reshape(x_test, (x_test.shape[0], x_test.shape[1], 1 ))"
   ]
  },
  {
   "cell_type": "code",
   "execution_count": null,
   "id": "s08AmuQqpSBZ",
   "metadata": {
    "colab": {
     "base_uri": "https://localhost:8080/"
    },
    "id": "s08AmuQqpSBZ",
    "outputId": "06093770-8031-4550-d840-f3d85ec10a42"
   },
   "outputs": [],
   "source": [
    "# Get the models predicted price values \n",
    "prediction = model.predict(x_test)\n",
    "prediction = scaler.inverse_transform(prediction)"
   ]
  },
  {
   "cell_type": "code",
   "execution_count": null,
   "id": "LWEbhlYaqYI3",
   "metadata": {
    "colab": {
     "base_uri": "https://localhost:8080/"
    },
    "id": "LWEbhlYaqYI3",
    "outputId": "cc35a459-e263-4d90-e0c6-79107bf13da7"
   },
   "outputs": [],
   "source": [
    "\n",
    "print('Mean Absolute Error: ', mean_absolute_error(y_test, prediction))\n",
    "print('Mean Squared Error: ', mean_squared_error(y_test, prediction))"
   ]
  },
  {
   "cell_type": "code",
   "execution_count": null,
   "id": "9Mf9YG9fmgMp",
   "metadata": {
    "colab": {
     "base_uri": "https://localhost:8080/",
     "height": 415
    },
    "id": "9Mf9YG9fmgMp",
    "outputId": "7018df5b-d2f1-4360-8b75-6da6c9e9a154"
   },
   "outputs": [],
   "source": [
    "plt.figure(figsize=(20,6))\n",
    "plt.plot(prediction, color='green', label='Predicted value')\n",
    "plt.plot(y_test, color ='red', label='Actual value')\n",
    "plt.title('LSTM Model Results',fontsize=24)\n",
    "plt.xlabel('Date', fontsize=20)\n",
    "plt.ylabel('Close Price USD', fontsize=20)\n",
    "plt.legend()\n",
    "plt.show()"
   ]
  },
  {
   "cell_type": "code",
   "execution_count": null,
   "id": "m6BUUQCYF3Lm",
   "metadata": {
    "colab": {
     "base_uri": "https://localhost:8080/"
    },
    "id": "m6BUUQCYF3Lm",
    "outputId": "71257f48-e82f-4960-bd31-8b9c6f8c68f3"
   },
   "outputs": [],
   "source": [
    "\n",
    "data=microsoft['Close']\n",
    "data.head()"
   ]
  },
  {
   "cell_type": "code",
   "execution_count": null,
   "id": "tniccVMVCQJA",
   "metadata": {
    "id": "tniccVMVCQJA"
   },
   "outputs": [],
   "source": [
    "time = np.arange(len(data.index))\n",
    "data['time'] = time "
   ]
  },
  {
   "cell_type": "code",
   "execution_count": null,
   "id": "w3el6ptYGdOf",
   "metadata": {
    "id": "w3el6ptYGdOf"
   },
   "outputs": [],
   "source": [
    "X = data.loc[:,[\"time\"]]\n",
    "y = data.loc[:,\"Close\"] \n",
    "model = LinearRegression()\n",
    "# Train the model\n",
    "model.fit(X, y)\n",
    "#Store the fitted values as a time series with the same time index as the training data\n",
    "y_pred = pd.Series(model.predict(X), index=X.index)"
   ]
  },
  {
   "cell_type": "markdown",
   "id": "3E6k8785EoR9",
   "metadata": {
    "id": "3E6k8785EoR9"
   },
   "source": [
    "# Plotting the result"
   ]
  },
  {
   "cell_type": "code",
   "execution_count": null,
   "id": "QU6Q4m1_Gfwo",
   "metadata": {
    "colab": {
     "base_uri": "https://localhost:8080/",
     "height": 401
    },
    "id": "QU6Q4m1_Gfwo",
    "outputId": "ae267ad5-aee0-409f-dc74-ad5c8fe840d2"
   },
   "outputs": [],
   "source": [
    "plt.figure(figsize=(16,6))\n",
    "ax = y.plot()\n",
    "ax = y_pred.plot(ax=ax, linewidth=3)\n",
    "plt.title('Linear Model Results',fontsize=24)\n",
    "plt.xlabel('Date', fontsize=20)\n",
    "plt.ylabel('Close Price USD', fontsize=20)\n",
    "plt.show()"
   ]
  }
 ],
 "metadata": {
  "colab": {
   "provenance": []
  },
  "kernelspec": {
   "display_name": "Python 3 (ipykernel)",
   "language": "python",
   "name": "python3"
  },
  "language_info": {
   "codemirror_mode": {
    "name": "ipython",
    "version": 3
   },
   "file_extension": ".py",
   "mimetype": "text/x-python",
   "name": "python",
   "nbconvert_exporter": "python",
   "pygments_lexer": "ipython3",
   "version": "3.10.6"
  }
 },
 "nbformat": 4,
 "nbformat_minor": 5
}

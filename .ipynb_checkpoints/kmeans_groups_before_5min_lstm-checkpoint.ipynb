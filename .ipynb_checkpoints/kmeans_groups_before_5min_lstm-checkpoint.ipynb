{
 "cells": [
  {
   "cell_type": "markdown",
   "id": "1fc41363",
   "metadata": {},
   "source": [
    "# LSTM Model analyzing 60 days of stock data at 5 min intervals\n",
    "\n",
    "__Important__: run Generate_Dataset_for_5min.ipynb before running this notebook to generate the local datasets needed"
   ]
  },
  {
   "cell_type": "markdown",
   "id": "0b437a02",
   "metadata": {},
   "source": [
    "# Library Imports\n",
    "### Python 3.10 with requirements.txt"
   ]
  },
  {
   "cell_type": "code",
   "execution_count": 1,
   "id": "cd34ae50",
   "metadata": {},
   "outputs": [
    {
     "name": "stderr",
     "output_type": "stream",
     "text": [
      "2022-12-03 18:11:06.890083: I tensorflow/core/platform/cpu_feature_guard.cc:193] This TensorFlow binary is optimized with oneAPI Deep Neural Network Library (oneDNN) to use the following CPU instructions in performance-critical operations:  AVX2 AVX_VNNI FMA\n",
      "To enable them in other operations, rebuild TensorFlow with the appropriate compiler flags.\n",
      "2022-12-03 18:11:07.006133: I tensorflow/core/util/port.cc:104] oneDNN custom operations are on. You may see slightly different numerical results due to floating-point round-off errors from different computation orders. To turn them off, set the environment variable `TF_ENABLE_ONEDNN_OPTS=0`.\n",
      "2022-12-03 18:11:07.009959: W tensorflow/compiler/xla/stream_executor/platform/default/dso_loader.cc:64] Could not load dynamic library 'libcudart.so.11.0'; dlerror: libcudart.so.11.0: cannot open shared object file: No such file or directory\n",
      "2022-12-03 18:11:07.009984: I tensorflow/compiler/xla/stream_executor/cuda/cudart_stub.cc:29] Ignore above cudart dlerror if you do not have a GPU set up on your machine.\n",
      "2022-12-03 18:11:07.591705: W tensorflow/compiler/xla/stream_executor/platform/default/dso_loader.cc:64] Could not load dynamic library 'libnvinfer.so.7'; dlerror: libnvinfer.so.7: cannot open shared object file: No such file or directory\n",
      "2022-12-03 18:11:07.591913: W tensorflow/compiler/xla/stream_executor/platform/default/dso_loader.cc:64] Could not load dynamic library 'libnvinfer_plugin.so.7'; dlerror: libnvinfer_plugin.so.7: cannot open shared object file: No such file or directory\n",
      "2022-12-03 18:11:07.591927: W tensorflow/compiler/tf2tensorrt/utils/py_utils.cc:38] TF-TRT Warning: Cannot dlopen some TensorRT libraries. If you would like to use Nvidia GPU with TensorRT, please make sure the missing libraries mentioned above are installed properly.\n"
     ]
    }
   ],
   "source": [
    "import numpy as np\n",
    "import pandas as pd\n",
    "from os.path import exists\n",
    "import yaml\n",
    "import matplotlib.pyplot as plt\n",
    "from kneed import KneeLocator\n",
    "from sklearn.cluster import KMeans\n",
    "from sklearn.preprocessing import StandardScaler\n",
    "from tslearn.clustering import TimeSeriesKMeans\n",
    "import tensorflow as tf"
   ]
  },
  {
   "cell_type": "markdown",
   "id": "70a0eb0a",
   "metadata": {},
   "source": [
    "# Dataset generation\n",
    "\n",
    "Dataset Downloads from yfinance and saves in specified folder. The default being ./5minData"
   ]
  },
  {
   "cell_type": "code",
   "execution_count": 2,
   "id": "cb0215f3",
   "metadata": {},
   "outputs": [],
   "source": [
    "with open('config.yml', 'r') as file:\n",
    "    config = yaml.safe_load(file)"
   ]
  },
  {
   "cell_type": "code",
   "execution_count": 3,
   "id": "6f1b0b26",
   "metadata": {},
   "outputs": [],
   "source": [
    "def get_sp500():\n",
    "    tickers = pd.read_html('https://en.wikipedia.org/wiki/List_of_S%26P_500_companies')[0]\n",
    "    return tickers.Symbol.to_list()"
   ]
  },
  {
   "cell_type": "code",
   "execution_count": 4,
   "id": "bfff0b90",
   "metadata": {},
   "outputs": [],
   "source": [
    "def kmeans_dataset_from_tickers(tickers_list):\n",
    "    # Use Smallest Stock Dataset Size for Model Inputs\n",
    "    dataset_size_list = []\n",
    "    for t in tickers_list:\n",
    "        if exists(config['path'] + '/' + t + '.pkl'):\n",
    "            dataset_size_list.append(len(pd.read_pickle(config['path'] + '/' + t + '.pkl')))\n",
    "    min_frame_size = min(dataset_size_list)\n",
    "    frame_size = 50 # Amount of past samples to use for clustering\n",
    "\n",
    "    arrays_to_stack = []\n",
    "    new_t_list = []\n",
    "    for t in tickers_list:\n",
    "            if exists(config['path'] + '/' + t + '.pkl'):\n",
    "                new_t_list.append(t)\n",
    "                df = pd.read_pickle(config['path'] + '/' + t + '.pkl')\n",
    "                df = (df - df.mean()) / df.std()\n",
    "                arrays_to_stack.append(df.iloc[0:frame_size].to_numpy())\n",
    "    return np.stack(arrays_to_stack), new_t_list, min_frame_size - 1"
   ]
  },
  {
   "cell_type": "code",
   "execution_count": 5,
   "id": "213cae58",
   "metadata": {},
   "outputs": [],
   "source": [
    "def train_kmeans(data):\n",
    "    for f in range(data.shape[2]):\n",
    "        scaler = StandardScaler()\n",
    "        scaled_features = scaler.fit_transform(data[:, :, f])\n",
    "        sse = []\n",
    "        for k in range(1, 11):\n",
    "            model = KMeans(init='random', n_clusters=k, n_init=10, max_iter=300)\n",
    "            model.fit(scaled_features)\n",
    "            sse.append(model.inertia_)\n",
    "        knee = KneeLocator(range(1, 11), sse, curve='convex', direction='decreasing')\n",
    "        model = KMeans(n_clusters=knee.elbow)\n",
    "        model.fit(scaled_features)\n",
    "        fte_colors = {0: \"#008fd5\", 1: \"#fc4f30\", 2: \"#d66cb2\", 3: \"#772a98\", 4: \"#e69666\"}\n",
    "        km_colors = [fte_colors[label] for label in model.labels_]\n",
    "        plt.scatter(scaled_features[:, 0], scaled_features[:, 1], c=km_colors)\n",
    "        plt.savefig('plots/feature'+str(f)+'kmeans.png')"
   ]
  },
  {
   "cell_type": "code",
   "execution_count": 6,
   "id": "c3b0b704",
   "metadata": {},
   "outputs": [],
   "source": [
    "def train_tseries_kmeans(data, tickers_list):\n",
    "    map_stock_to_label = {}\n",
    "    for f in range(data.shape[2]):\n",
    "        print('Feature: ' + str(f))\n",
    "        scaler = StandardScaler()\n",
    "        scaled_features = scaler.fit_transform(data[:, :, f])\n",
    "        sse = []\n",
    "        for k in range(1, 11):\n",
    "            print('Number of Clusters: ' + str(k))\n",
    "            model = TimeSeriesKMeans(n_clusters=k, metric=\"softdtw\", max_iter=10, n_jobs=-1, verbose=1)\n",
    "            model.fit(scaled_features)\n",
    "            sse.append(model.inertia_)\n",
    "        knee = KneeLocator(range(1, 11), sse, curve='convex', direction='decreasing')\n",
    "        print('Elbow: ' + str(knee.elbow))\n",
    "        model = TimeSeriesKMeans(n_clusters=knee.elbow, metric=\"softdtw\", max_iter=10, n_jobs=-1, verbose=1)\n",
    "        model.fit(scaled_features)\n",
    "\n",
    "        # Grouped to an elbow of 2 on testing\n",
    "        # model = TimeSeriesKMeans(n_clusters=2, metric=\"softdtw\", max_iter=10, n_jobs=-1, verbose=1)\n",
    "        # model.fit(scaled_features)\n",
    "        model.to_pickle('saved_models/kmeans'+str(f))\n",
    "        counter = 0\n",
    "        for _ in model.labels_:\n",
    "            if f in map_stock_to_label:\n",
    "                if model.labels_[counter] in map_stock_to_label[f]:\n",
    "                    map_stock_to_label[f][model.labels_[counter]].append(tickers_list[counter])\n",
    "                else:\n",
    "                    map_stock_to_label[f][model.labels_[counter]] = [tickers_list[counter]]\n",
    "            else:\n",
    "                map_stock_to_label[f] = {}\n",
    "                map_stock_to_label[f][model.labels_[counter]] = [tickers_list[counter]]\n",
    "            counter += 1\n",
    "    return map_stock_to_label"
   ]
  },
  {
   "cell_type": "markdown",
   "id": "802283a1",
   "metadata": {},
   "source": [
    "# Functions for Plotting Model Ouputs"
   ]
  },
  {
   "cell_type": "code",
   "execution_count": 7,
   "id": "78240e19",
   "metadata": {},
   "outputs": [],
   "source": [
    "def plot_groups(label_dict):\n",
    "    for feature in label_dict:\n",
    "        for group in label_dict[feature]:\n",
    "#             plt.clf()\n",
    "            tickers_list = label_dict[feature][group]\n",
    "            for t in tickers_list:\n",
    "                if exists(config['path'] + '/' + t + '.pkl'):\n",
    "                    df = pd.read_pickle(config['path'] + '/' + t + '.pkl')\n",
    "                    df = (df - df.mean()) / df.std()\n",
    "                    plt.plot(df.to_numpy()[0:50, feature])\n",
    "                    plt.title('Group ' + str(group) + ' for feature ' + str(feature))\n",
    "            plt.savefig('plots/feature'+str(feature)+'Group'+str(group)+'Plot.png')\n",
    "            plt.close()"
   ]
  },
  {
   "cell_type": "code",
   "execution_count": 8,
   "id": "07735584",
   "metadata": {},
   "outputs": [],
   "source": [
    "def plot_prediction(val_data, prediction, filename, feature):\n",
    "    fig, axs = plt.subplots(val_data.shape[0], figsize=(20, val_data.shape[0] * 6))\n",
    "    for i in range(val_data.shape[0]):\n",
    "        # Plot all the close prices\n",
    "        axs[i].plot(val_data[i, :, feature], color ='red', label='Actual value')\n",
    "        axs[i].plot(prediction[i, :, feature], color='green', label='Predicted value')\n",
    "\n",
    "        # Show the legend\n",
    "        axs[i].legend()\n",
    "\n",
    "        # Define the label for the title of the figure\n",
    "        axs[i].set_title('LSTM Model Grouped by Feature: ' + str(feature))\n",
    "\n",
    "        # Define the labels for x-axis and y-axis\n",
    "        axs[i].set_ylabel('Normalized Value, Feature: ' + str(feature))\n",
    "        axs[i].set_xlabel('Samples')\n",
    "\n",
    "    plt.savefig('plots/'+filename)\n",
    "    plt.close()"
   ]
  },
  {
   "cell_type": "code",
   "execution_count": 9,
   "id": "24f73a8c",
   "metadata": {},
   "outputs": [],
   "source": [
    "def lstm_dataset_from_mapped_labels(label_dict):\n",
    "    data = {}\n",
    "    for feature in label_dict:\n",
    "        data[feature] = {}\n",
    "        for group in label_dict[feature]:\n",
    "            tickers_list = label_dict[feature][group]\n",
    "            # Use Smallest Stock Dataset Size for Model Inputs\n",
    "            dataset_size_list = []\n",
    "            for t in tickers_list:\n",
    "                if exists(config['path'] + '/' + t + '.pkl'):\n",
    "                    dataset_size_list.append(len(pd.read_pickle(config['path'] + '/' + t + '.pkl')))\n",
    "            frame_size = min(dataset_size_list)\n",
    "\n",
    "            arrays_to_stack = []\n",
    "            for t in tickers_list:\n",
    "                if exists(config['path'] + '/' + t + '.pkl'):\n",
    "                    df = pd.read_pickle(config['path'] + '/' + t + '.pkl')\n",
    "                    date_time = pd.to_datetime(df.index, format='%Y-%m-%d %H:%M:%S%z')\n",
    "                    timestamp_s = date_time.map(pd.Timestamp.timestamp)\n",
    "                    day = 24 * 60 * 60\n",
    "                    year = 365.2425 * day\n",
    "                    # Normalize df before adding time back\n",
    "                    df = (df - df.mean()) / df.std()\n",
    "                    df['Day sin'] = np.sin(timestamp_s * (2 * np.pi / day))\n",
    "                    df['Day cos'] = np.cos(timestamp_s * (2 * np.pi / day))\n",
    "                    df['Year sin'] = np.sin(timestamp_s * (2 * np.pi / year))\n",
    "                    df['Year cos'] = np.cos(timestamp_s * (2 * np.pi / year))\n",
    "                    arrays_to_stack.append(df.iloc[-frame_size:-1].to_numpy())\n",
    "            data[feature][group] = np.stack(arrays_to_stack)\n",
    "    return data"
   ]
  },
  {
   "cell_type": "markdown",
   "id": "ad084cce",
   "metadata": {},
   "source": [
    "# Model Functions For Training\n",
    "They custom dataset dictionary as an input"
   ]
  },
  {
   "cell_type": "code",
   "execution_count": 20,
   "id": "980bae8f",
   "metadata": {},
   "outputs": [],
   "source": [
    "def create_lstm_model(label_dict, frame_size):\n",
    "    data = label_dict[0][0]\n",
    "    # frame_size = data.shape[1]\n",
    "    features = data.shape[2]\n",
    "    in_size = frame_size // 2\n",
    "    out_size = in_size\n",
    "    # Model\n",
    "    model = tf.keras.Sequential([\n",
    "        tf.keras.layers.LSTM(32, return_sequences=False),\n",
    "        tf.keras.layers.Dense(out_size * features, kernel_initializer=tf.initializers.zeros()),\n",
    "        tf.keras.layers.Reshape([out_size, features])\n",
    "    ])\n",
    "\n",
    "    model.compile(optimizer='adam', loss='MSE')\n",
    "    return model"
   ]
  },
  {
   "cell_type": "code",
   "execution_count": 21,
   "id": "a032dfa9",
   "metadata": {},
   "outputs": [],
   "source": [
    "def train_lstm_model(label_dict, model, frame_size):\n",
    "    for feature in label_dict:\n",
    "        for group in label_dict[feature]:\n",
    "            data = label_dict[feature][group]\n",
    "            print('Feature: ' + str(feature) + ' Group: ' + str(group))\n",
    "            max_epochs = 50\n",
    "            samples = data.shape[0]\n",
    "            if samples >= 10:\n",
    "                features = data.shape[2]\n",
    "\n",
    "                # Using 80 - 10 - 10 Split    \n",
    "\n",
    "                samples_for_training = int(samples * 0.80)\n",
    "                samples_for_validation = int(samples * 0.10)\n",
    "                samples_for_testing = int(samples * 0.10)\n",
    "\n",
    "                in_size = frame_size // 2\n",
    "\n",
    "                x_train = data[:samples_for_training, :in_size, :]\n",
    "                y_train = data[:samples_for_training, in_size:2 * in_size, :]\n",
    "\n",
    "                x_val = data[samples_for_training:samples_for_training + samples_for_validation, :in_size, :]\n",
    "                y_val = data[samples_for_training:samples_for_training + samples_for_validation, in_size:2 * in_size, :]\n",
    "\n",
    "                x_test = data[samples_for_training + samples_for_validation:samples_for_training + samples_for_validation + samples_for_testing,\n",
    "                              :in_size, :]\n",
    "                y_test = data[samples_for_training + samples_for_validation:samples_for_training + samples_for_validation + samples_for_testing,\n",
    "                              in_size:2 * in_size, :]\n",
    "\n",
    "                early_stopping = tf.keras.callbacks.EarlyStopping(monitor='val_loss',patience=4,mode='min')\n",
    "\n",
    "                model.fit(x=x_train, y=y_train, validation_data=(x_val, y_val), epochs=max_epochs, callbacks=[early_stopping])\n",
    "\n",
    "                model.save('saved_models/lstm'+str(feature)+str(group))\n",
    "\n",
    "                p = model.predict(x_test)\n",
    "\n",
    "                filename = 'lstmFeature' + str(feature) + 'Group' + str(group) + '.png'\n",
    "\n",
    "                plot_prediction(y_test, p, filename, feature)\n"
   ]
  },
  {
   "cell_type": "markdown",
   "id": "2096243c",
   "metadata": {},
   "source": [
    "# Running the above functions\n",
    "Below is where the functions are run. Data is collected according to a tickers list. Then pre-processing and feature extraction happens in kmeans_dataset_from_tickers. The groupings then are used to train seperate models"
   ]
  },
  {
   "cell_type": "code",
   "execution_count": 12,
   "id": "af1967d8",
   "metadata": {},
   "outputs": [],
   "source": [
    "tick_list = []\n",
    "if config['S&P500']:\n",
    "    for t in get_sp500():\n",
    "        tick_list.append(t)\n",
    "for t in config['tickers']:\n",
    "    tick_list.append(t)"
   ]
  },
  {
   "cell_type": "code",
   "execution_count": 13,
   "id": "9085a195",
   "metadata": {},
   "outputs": [],
   "source": [
    "model_dataset, tick_list, min_f_size = kmeans_dataset_from_tickers(tick_list)"
   ]
  },
  {
   "cell_type": "code",
   "execution_count": 14,
   "id": "42e6353f",
   "metadata": {},
   "outputs": [],
   "source": [
    "# train_kmeans(model_dataset)"
   ]
  },
  {
   "cell_type": "code",
   "execution_count": 15,
   "id": "6d742f2c",
   "metadata": {},
   "outputs": [
    {
     "name": "stdout",
     "output_type": "stream",
     "text": [
      "Feature: 0\n",
      "Number of Clusters: 1\n",
      "21903.199 --> 11021.597 --> 11033.927 --> 11028.259 --> 11028.884 --> 11028.610 --> 11028.651 --> 11028.634 --> 11028.634 --> \n",
      "Number of Clusters: 2\n",
      "3336.319 --> 4725.624 --> 4629.020 --> 4620.442 --> 4612.143 --> 4612.170 --> 4612.145 --> 4612.154 --> 4612.152 --> 4612.153 --> \n",
      "Number of Clusters: 3\n",
      "4765.255 --> 5208.536 --> 5270.862 --> 5295.600 --> 5305.323 --> 5306.104 --> 5307.222 --> 5307.471 --> 5312.192 --> 5317.290 --> \n",
      "Number of Clusters: 4\n",
      "5011.331 --> 5833.447 --> 5883.100 --> 5910.200 --> 5920.343 --> 5924.827 --> 5926.372 --> 5926.574 --> 5926.245 --> 5926.010 --> \n",
      "Number of Clusters: 5\n",
      "5327.518 --> 5944.560 --> 6024.060 --> 6121.217 --> 6224.313 --> 6249.492 --> 6257.077 --> 6259.315 --> 6261.110 --> 6262.351 --> \n",
      "Number of Clusters: 6\n",
      "5091.872 --> 5977.742 --> 6195.050 --> 6252.714 --> 6274.109 --> 6287.438 --> 6303.080 --> 6319.777 --> 6343.153 --> 6371.732 --> \n",
      "Number of Clusters: 7\n",
      "5917.427 --> 6340.573 --> 6444.843 --> 6467.239 --> 6479.481 --> 6490.210 --> 6493.301 --> 6498.400 --> 6500.070 --> 6502.153 --> \n",
      "Number of Clusters: 8\n",
      "5985.382 --> 6290.752 --> 6419.892 --> 6491.327 --> 6519.572 --> 6530.809 --> 6540.125 --> 6566.483 --> 6588.633 --> 6593.023 --> \n",
      "Number of Clusters: 9\n",
      "6323.515 --> 6578.652 --> 6599.290 --> 6614.976 --> 6621.516 --> 6626.121 --> 6630.706 --> 6637.859 --> 6647.712 --> 6652.004 --> \n",
      "Number of Clusters: 10\n",
      "5350.522 --> 6461.392 --> 6573.475 --> 6638.238 --> 6670.086 --> 6684.324 --> 6696.446 --> 6701.994 --> 6705.289 --> 6709.170 --> \n",
      "Elbow: 2\n",
      "3913.190 --> 4246.052 --> 4429.916 --> 4539.580 --> 4579.282 --> 4595.606 --> 4603.848 --> 4603.798 --> 4603.835 --> 4603.827 --> \n",
      "Feature: 1\n",
      "Number of Clusters: 1\n",
      "232192.648 --> 11066.403 --> 11063.044 --> 11063.584 --> 11063.362 --> 11063.409 --> 11063.391 --> 11063.396 --> 11063.396 --> \n",
      "Number of Clusters: 2\n",
      "4657.558 --> 4082.355 --> 4355.100 --> 4495.114 --> 4566.347 --> 4598.886 --> 4615.406 --> 4615.394 --> 4615.421 --> 4615.409 --> \n",
      "Number of Clusters: 3\n",
      "4966.945 --> 5391.006 --> 5427.037 --> 5427.637 --> 5428.861 --> 5429.774 --> 5430.339 --> 5430.426 --> 5430.426 --> 5430.426 --> \n",
      "Number of Clusters: 4\n",
      "5067.031 --> 5945.042 --> 5934.303 --> 5920.928 --> 5918.235 --> 5919.218 --> 5920.701 --> 5922.281 --> 5922.410 --> 5922.508 --> \n",
      "Number of Clusters: 5\n",
      "5670.300 --> 6067.755 --> 6128.383 --> 6134.857 --> 6151.788 --> 6157.561 --> 6186.709 --> 6218.404 --> 6233.346 --> 6237.716 --> \n",
      "Number of Clusters: 6\n",
      "5149.534 --> 5904.097 --> 6120.618 --> 6267.004 --> 6316.769 --> 6343.550 --> 6371.309 --> 6399.503 --> 6407.908 --> 6411.160 --> \n",
      "Number of Clusters: 7\n",
      "5506.047 --> 6411.161 --> 6492.955 --> 6503.325 --> 6506.029 --> 6506.950 --> 6507.433 --> 6508.041 --> 6508.470 --> 6508.576 --> \n",
      "Number of Clusters: 8\n",
      "6028.684 --> 6384.879 --> 6488.208 --> 6549.490 --> 6573.845 --> 6597.682 --> 6618.608 --> 6623.940 --> 6623.610 --> 6623.321 --> \n",
      "Number of Clusters: 9\n",
      "5847.381 --> 6377.402 --> 6516.716 --> 6618.173 --> 6644.181 --> 6656.758 --> 6661.688 --> 6665.767 --> 6667.354 --> 6669.966 --> \n",
      "Number of Clusters: 10\n",
      "6409.571 --> 6663.756 --> 6690.399 --> 6700.896 --> 6702.568 --> 6705.364 --> 6707.647 --> 6708.983 --> 6709.963 --> 6710.187 --> \n",
      "Elbow: 2\n",
      "4862.100 --> 4648.350 --> 4632.136 --> 4632.289 --> 4632.158 --> 4632.212 --> 4632.189 --> 4632.204 --> 4632.203 --> 4632.203 --> \n",
      "Feature: 2\n",
      "Number of Clusters: 1\n",
      "21974.069 --> 11002.085 --> 11002.368 --> 11002.046 --> 11002.186 --> 11002.169 --> 11002.177 --> 11002.177 --> \n",
      "Number of Clusters: 2\n",
      "3501.386 --> 4609.781 --> 4600.705 --> 4601.617 --> 4601.244 --> 4601.285 --> 4601.267 --> 4601.269 --> 4601.269 --> \n",
      "Number of Clusters: 3\n",
      "3653.430 --> 5030.802 --> 5156.565 --> 5198.162 --> 5222.416 --> 5247.820 --> 5292.239 --> 5295.907 --> 5305.504 --> 5306.905 --> \n",
      "Number of Clusters: 4\n",
      "4949.855 --> 5815.507 --> 5922.157 --> 5921.446 --> 5921.596 --> 5930.797 --> 5924.952 --> 5915.561 --> 5914.471 --> 5915.548 --> \n",
      "Number of Clusters: 5\n",
      "3506.616 --> 5868.795 --> 6003.467 --> 6128.015 --> 6203.851 --> 6230.497 --> 6247.461 --> 6256.058 --> 6262.196 --> 6264.496 --> \n",
      "Number of Clusters: 6\n",
      "4973.643 --> 6014.988 --> 6196.281 --> 6330.974 --> 6379.165 --> 6400.881 --> 6404.825 --> 6407.772 --> 6409.984 --> 6411.433 --> \n",
      "Number of Clusters: 7\n",
      "6004.018 --> 6413.104 --> 6485.147 --> 6507.130 --> 6511.914 --> 6513.282 --> 6513.704 --> 6513.754 --> 6513.743 --> 6513.655 --> \n",
      "Number of Clusters: 8\n",
      "5842.161 --> 6427.023 --> 6498.234 --> 6513.343 --> 6523.854 --> 6529.555 --> 6534.546 --> 6541.194 --> 6544.062 --> 6545.667 --> \n",
      "Number of Clusters: 9\n",
      "5444.363 --> 6344.163 --> 6462.120 --> 6503.435 --> 6529.273 --> 6553.185 --> 6585.905 --> 6608.911 --> 6625.853 --> 6635.970 --> \n",
      "Number of Clusters: 10\n",
      "6108.679 --> 6567.887 --> 6626.421 --> 6654.175 --> 6681.654 --> 6704.711 --> 6712.426 --> 6714.057 --> 6714.398 --> 6714.489 --> \n",
      "Elbow: 2\n",
      "4429.165 --> 4950.772 --> 4746.807 --> 4626.520 --> 4601.282 --> 4601.286 --> 4601.258 --> 4601.270 --> 4601.267 --> 4601.268 --> \n",
      "Feature: 3\n",
      "Number of Clusters: 1\n",
      "32729.447 --> 11053.386 --> 11032.171 --> 11039.400 --> 11037.684 --> 11038.297 --> 11038.163 --> 11038.213 --> 11038.203 --> 11038.203 --> \n",
      "Number of Clusters: 2\n",
      "3558.879 --> 5135.495 --> 4895.040 --> 4726.932 --> 4631.076 --> 4614.198 --> 4614.175 --> 4614.184 --> 4614.181 --> 4614.181 --> \n",
      "Number of Clusters: 3\n",
      "3695.629 --> 5151.108 --> 5368.019 --> 5468.964 --> 5482.370 --> 5462.960 --> 5463.522 --> 5473.645 --> 5462.846 --> 5455.309 --> \n",
      "Number of Clusters: 4\n",
      "5622.721 --> 5923.393 --> 5929.014 --> 5929.173 --> 5929.194 --> 5929.191 --> 5929.192 --> 5929.192 --> \n",
      "Number of Clusters: 5\n",
      "4959.614 --> 5990.865 --> 6071.061 --> 6121.024 --> 6176.437 --> 6205.090 --> 6234.521 --> 6246.222 --> 6256.643 --> 6264.719 --> \n",
      "Number of Clusters: 6\n",
      "4503.775 --> 6208.554 --> 6285.057 --> 6303.615 --> 6317.806 --> 6330.920 --> 6338.735 --> 6345.212 --> 6353.470 --> 6355.924 --> \n",
      "Number of Clusters: 7\n",
      "4782.455 --> 6127.464 --> 6391.028 --> 6425.959 --> 6448.569 --> 6471.872 --> 6494.850 --> 6502.093 --> 6506.036 --> 6508.527 --> \n",
      "Number of Clusters: 8\n",
      "5353.074 --> 6262.844 --> 6417.215 --> 6498.875 --> 6537.924 --> 6563.758 --> 6577.821 --> 6588.307 --> 6595.076 --> 6598.983 --> \n",
      "Number of Clusters: 9\n",
      "6422.475 --> 6615.288 --> 6636.576 --> 6641.434 --> 6644.536 --> 6645.044 --> 6645.124 --> 6645.213 --> 6645.248 --> 6645.289 --> \n",
      "Number of Clusters: 10\n",
      "6165.368 --> 6549.306 --> 6667.346 --> 6709.007 --> 6718.827 --> 6720.399 --> 6722.760 --> 6724.393 --> 6725.201 --> 6726.499 --> \n",
      "Elbow: 2\n",
      "4119.695 --> 4487.921 --> 4557.404 --> 4589.514 --> 4605.896 --> 4614.204 --> 4614.145 --> 4614.186 --> 4614.179 --> 4614.181 --> \n",
      "Feature: 4\n",
      "Number of Clusters: 1\n",
      "20749.059 --> 11035.243 --> 11040.739 --> 11037.929 --> 11038.357 --> 11038.182 --> 11038.217 --> 11038.204 --> 11038.207 --> 11038.207 --> \n",
      "Number of Clusters: 2\n",
      "3386.018 --> 3941.587 --> 4287.379 --> 4440.226 --> 4549.663 --> 4581.370 --> 4597.667 --> 4605.919 --> 4614.201 --> 4614.149 --> \n",
      "Number of Clusters: 3\n",
      "5149.442 --> 5370.449 --> 5376.722 --> 5381.598 --> 5381.570 --> 5381.606 --> 5381.625 --> 5381.664 --> 5381.664 --> 5381.664 --> \n",
      "Number of Clusters: 4\n",
      "5133.668 --> 5810.458 --> 5893.714 --> 5909.980 --> 5915.630 --> 5919.833 --> 5923.884 --> 5927.017 --> 5929.094 --> 5929.191 --> \n",
      "Number of Clusters: 5\n",
      "5857.076 --> 6163.943 --> 6231.833 --> 6258.338 --> 6259.520 --> 6261.912 --> 6268.005 --> 6271.123 --> 6271.599 --> 6272.313 --> \n",
      "Number of Clusters: 6\n",
      "5583.893 --> 6321.332 --> 6348.803 --> 6351.333 --> 6351.994 --> 6352.639 --> 6352.944 --> 6353.224 --> 6353.854 --> 6354.453 --> \n",
      "Number of Clusters: 7\n",
      "5380.094 --> 6110.340 --> 6305.944 --> 6419.951 --> 6467.897 --> 6485.392 --> 6493.687 --> 6494.947 --> 6495.676 --> 6496.146 --> \n",
      "Number of Clusters: 8\n",
      "5717.955 --> 6230.148 --> 6330.530 --> 6390.575 --> 6438.029 --> 6476.028 --> 6514.178 --> 6543.327 --> 6556.311 --> 6564.240 --> \n",
      "Number of Clusters: 9\n",
      "5915.683 --> 6585.094 --> 6651.307 --> 6677.253 --> 6684.154 --> 6688.674 --> 6692.785 --> 6694.460 --> 6694.858 --> 6694.916 --> \n",
      "Number of Clusters: 10\n"
     ]
    },
    {
     "name": "stdout",
     "output_type": "stream",
     "text": [
      "4739.265 --> 6217.706 --> 6457.881 --> 6521.276 --> 6563.993 --> 6582.808 --> 6593.939 --> 6604.190 --> 6614.866 --> 6623.298 --> \n",
      "Elbow: 2\n",
      "3918.788 --> 4439.775 --> 4549.623 --> 4581.363 --> 4597.666 --> 4605.919 --> 4614.201 --> 4614.149 --> 4614.187 --> 4614.179 --> \n",
      "Feature: 5\n",
      "Number of Clusters: 1\n",
      "15890.326 --> 11129.427 --> 11033.959 --> 11051.063 --> 11039.219 --> 11045.549 --> 11041.973 --> 11041.882 --> 11041.926 --> 11041.914 --> \n",
      "Number of Clusters: 2\n",
      "2944.872 --> 4339.899 --> 4479.586 --> 4595.150 --> 4774.356 --> 4804.079 --> 4823.179 --> 4859.422 --> 4948.321 --> 5043.115 --> \n",
      "Number of Clusters: 3\n",
      "2497.969 --> 4054.765 --> 3829.490 --> 3853.652 --> 3806.686 --> 3843.022 --> 3883.906 --> 3912.909 --> 3938.181 --> 3966.627 --> \n",
      "Number of Clusters: 4\n",
      "4201.753 --> 4164.313 --> 4008.373 --> 3934.766 --> 3905.679 --> 3874.107 --> 3860.309 --> 3859.240 --> 3858.836 --> 3858.131 --> \n",
      "Number of Clusters: 5\n",
      "4001.703 --> 4052.335 --> 4012.434 --> 4028.790 --> 4014.568 --> 4035.462 --> 4042.359 --> 4028.871 --> 4026.589 --> 4023.849 --> \n",
      "Number of Clusters: 6\n",
      "2995.340 --> 4129.603 --> 4152.978 --> 4158.601 --> 4159.642 --> 4153.310 --> 4155.341 --> 4151.586 --> 4156.124 --> 4152.387 --> \n",
      "Number of Clusters: 7\n",
      "3083.562 --> 3602.064 --> 3635.334 --> 3653.863 --> 3659.586 --> 3661.508 --> 3662.022 --> 3662.646 --> 3665.181 --> 3665.335 --> \n",
      "Number of Clusters: 8\n",
      "3007.860 --> 3572.112 --> 3662.156 --> 3684.103 --> 3692.361 --> 3714.975 --> 3726.978 --> 3737.220 --> 3741.828 --> 3744.696 --> \n",
      "Number of Clusters: 9\n",
      "2513.500 --> 3511.848 --> 3578.633 --> 3616.220 --> 3631.543 --> 3662.152 --> 3668.363 --> 3669.179 --> 3669.754 --> 3669.867 --> \n",
      "Number of Clusters: 10\n",
      "3146.614 --> 3839.052 --> 3923.264 --> 3932.231 --> 3915.337 --> 3921.095 --> 3926.802 --> 3932.312 --> 3937.034 --> 3944.312 --> \n",
      "Elbow: 3\n",
      "3676.186 --> 4011.047 --> 4070.919 --> 3861.796 --> 3889.020 --> 3943.836 --> 3990.122 --> 4050.901 --> 4072.797 --> 4065.871 --> \n"
     ]
    }
   ],
   "source": [
    "mapped_labels = train_tseries_kmeans(model_dataset, tick_list)"
   ]
  },
  {
   "cell_type": "code",
   "execution_count": 16,
   "id": "9e0b6175",
   "metadata": {},
   "outputs": [],
   "source": [
    "plot_groups(mapped_labels)"
   ]
  },
  {
   "cell_type": "code",
   "execution_count": 17,
   "id": "f30b8e94",
   "metadata": {},
   "outputs": [],
   "source": [
    "model_dataset = lstm_dataset_from_mapped_labels(mapped_labels)"
   ]
  },
  {
   "cell_type": "code",
   "execution_count": 22,
   "id": "bb9f041a",
   "metadata": {},
   "outputs": [],
   "source": [
    "lstm_model = create_lstm_model(model_dataset, min_f_size)"
   ]
  },
  {
   "cell_type": "code",
   "execution_count": 23,
   "id": "2e74aef6",
   "metadata": {
    "scrolled": false
   },
   "outputs": [
    {
     "name": "stdout",
     "output_type": "stream",
     "text": [
      "Feature: 0 Group: 0\n",
      "Epoch 1/50\n",
      "10/10 [==============================] - 2s 78ms/step - loss: 0.8813 - val_loss: 0.7592\n",
      "Epoch 2/50\n",
      "10/10 [==============================] - 1s 65ms/step - loss: 0.6596 - val_loss: 0.4631\n",
      "Epoch 3/50\n",
      "10/10 [==============================] - 1s 63ms/step - loss: 0.3827 - val_loss: 0.2382\n",
      "Epoch 4/50\n",
      "10/10 [==============================] - 1s 63ms/step - loss: 0.2339 - val_loss: 0.1700\n",
      "Epoch 5/50\n",
      "10/10 [==============================] - 1s 65ms/step - loss: 0.1999 - val_loss: 0.1616\n",
      "Epoch 6/50\n",
      "10/10 [==============================] - 1s 63ms/step - loss: 0.1919 - val_loss: 0.1541\n",
      "Epoch 7/50\n",
      "10/10 [==============================] - 1s 66ms/step - loss: 0.1857 - val_loss: 0.1498\n",
      "Epoch 8/50\n",
      "10/10 [==============================] - 1s 58ms/step - loss: 0.1842 - val_loss: 0.1532\n",
      "Epoch 9/50\n",
      "10/10 [==============================] - 1s 65ms/step - loss: 0.1811 - val_loss: 0.1518\n",
      "Epoch 10/50\n",
      "10/10 [==============================] - 1s 62ms/step - loss: 0.1784 - val_loss: 0.1512\n",
      "Epoch 11/50\n",
      "10/10 [==============================] - 1s 62ms/step - loss: 0.1769 - val_loss: 0.1503\n"
     ]
    },
    {
     "name": "stderr",
     "output_type": "stream",
     "text": [
      "WARNING:absl:Found untraced functions such as _update_step_xla, lstm_cell_1_layer_call_fn, lstm_cell_1_layer_call_and_return_conditional_losses while saving (showing 3 of 3). These functions will not be directly callable after loading.\n"
     ]
    },
    {
     "name": "stdout",
     "output_type": "stream",
     "text": [
      "INFO:tensorflow:Assets written to: saved_models/lstm00/assets\n"
     ]
    },
    {
     "name": "stderr",
     "output_type": "stream",
     "text": [
      "INFO:tensorflow:Assets written to: saved_models/lstm00/assets\n"
     ]
    },
    {
     "name": "stdout",
     "output_type": "stream",
     "text": [
      "2/2 [==============================] - 0s 13ms/step\n",
      "Feature: 0 Group: 1\n",
      "Epoch 1/50\n",
      "4/4 [==============================] - 0s 74ms/step - loss: 1.1442 - val_loss: 0.7784\n",
      "Epoch 2/50\n",
      "4/4 [==============================] - 0s 73ms/step - loss: 1.0319 - val_loss: 0.6771\n",
      "Epoch 3/50\n",
      "4/4 [==============================] - 0s 61ms/step - loss: 0.9218 - val_loss: 0.6076\n",
      "Epoch 4/50\n",
      "4/4 [==============================] - 0s 67ms/step - loss: 0.8423 - val_loss: 0.5645\n",
      "Epoch 5/50\n",
      "4/4 [==============================] - 0s 67ms/step - loss: 0.7790 - val_loss: 0.5335\n",
      "Epoch 6/50\n",
      "4/4 [==============================] - 0s 65ms/step - loss: 0.7316 - val_loss: 0.5068\n",
      "Epoch 7/50\n",
      "4/4 [==============================] - 0s 68ms/step - loss: 0.6908 - val_loss: 0.4809\n",
      "Epoch 8/50\n",
      "4/4 [==============================] - 0s 66ms/step - loss: 0.6543 - val_loss: 0.4568\n",
      "Epoch 9/50\n",
      "4/4 [==============================] - 0s 67ms/step - loss: 0.6214 - val_loss: 0.4354\n",
      "Epoch 10/50\n",
      "4/4 [==============================] - 0s 67ms/step - loss: 0.5929 - val_loss: 0.4166\n",
      "Epoch 11/50\n",
      "4/4 [==============================] - 0s 62ms/step - loss: 0.5682 - val_loss: 0.4012\n",
      "Epoch 12/50\n",
      "4/4 [==============================] - 0s 66ms/step - loss: 0.5464 - val_loss: 0.3888\n",
      "Epoch 13/50\n",
      "4/4 [==============================] - 0s 72ms/step - loss: 0.5279 - val_loss: 0.3789\n",
      "Epoch 14/50\n",
      "4/4 [==============================] - 0s 76ms/step - loss: 0.5117 - val_loss: 0.3705\n",
      "Epoch 15/50\n",
      "4/4 [==============================] - 0s 60ms/step - loss: 0.4973 - val_loss: 0.3633\n",
      "Epoch 16/50\n",
      "4/4 [==============================] - 0s 70ms/step - loss: 0.4843 - val_loss: 0.3561\n",
      "Epoch 17/50\n",
      "4/4 [==============================] - 0s 67ms/step - loss: 0.4727 - val_loss: 0.3496\n",
      "Epoch 18/50\n",
      "4/4 [==============================] - 0s 70ms/step - loss: 0.4628 - val_loss: 0.3435\n",
      "Epoch 19/50\n",
      "4/4 [==============================] - 0s 64ms/step - loss: 0.4540 - val_loss: 0.3381\n",
      "Epoch 20/50\n",
      "4/4 [==============================] - 0s 62ms/step - loss: 0.4462 - val_loss: 0.3345\n",
      "Epoch 21/50\n",
      "4/4 [==============================] - 0s 67ms/step - loss: 0.4398 - val_loss: 0.3312\n",
      "Epoch 22/50\n",
      "4/4 [==============================] - 0s 68ms/step - loss: 0.4345 - val_loss: 0.3295\n",
      "Epoch 23/50\n",
      "4/4 [==============================] - 0s 66ms/step - loss: 0.4293 - val_loss: 0.3288\n",
      "Epoch 24/50\n",
      "4/4 [==============================] - 0s 72ms/step - loss: 0.4255 - val_loss: 0.3297\n",
      "Epoch 25/50\n",
      "4/4 [==============================] - 0s 61ms/step - loss: 0.4223 - val_loss: 0.3308\n",
      "Epoch 26/50\n",
      "4/4 [==============================] - 0s 72ms/step - loss: 0.4197 - val_loss: 0.3316\n",
      "Epoch 27/50\n",
      "4/4 [==============================] - 0s 62ms/step - loss: 0.4174 - val_loss: 0.3328\n"
     ]
    },
    {
     "name": "stderr",
     "output_type": "stream",
     "text": [
      "WARNING:absl:Found untraced functions such as _update_step_xla, lstm_cell_1_layer_call_fn, lstm_cell_1_layer_call_and_return_conditional_losses while saving (showing 3 of 3). These functions will not be directly callable after loading.\n"
     ]
    },
    {
     "name": "stdout",
     "output_type": "stream",
     "text": [
      "INFO:tensorflow:Assets written to: saved_models/lstm01/assets\n"
     ]
    },
    {
     "name": "stderr",
     "output_type": "stream",
     "text": [
      "INFO:tensorflow:Assets written to: saved_models/lstm01/assets\n"
     ]
    },
    {
     "name": "stdout",
     "output_type": "stream",
     "text": [
      "1/1 [==============================] - 0s 26ms/step\n",
      "Feature: 1 Group: 1\n",
      "Epoch 1/50\n",
      "10/10 [==============================] - 1s 66ms/step - loss: 0.9630 - val_loss: 0.7614\n",
      "Epoch 2/50\n",
      "10/10 [==============================] - 1s 62ms/step - loss: 0.6268 - val_loss: 0.4796\n",
      "Epoch 3/50\n",
      "10/10 [==============================] - 1s 66ms/step - loss: 0.4101 - val_loss: 0.3258\n",
      "Epoch 4/50\n",
      "10/10 [==============================] - 1s 65ms/step - loss: 0.2953 - val_loss: 0.2423\n",
      "Epoch 5/50\n",
      "10/10 [==============================] - 1s 64ms/step - loss: 0.2335 - val_loss: 0.1959\n",
      "Epoch 6/50\n",
      "10/10 [==============================] - 1s 63ms/step - loss: 0.1997 - val_loss: 0.1709\n",
      "Epoch 7/50\n",
      "10/10 [==============================] - 1s 65ms/step - loss: 0.1815 - val_loss: 0.1579\n",
      "Epoch 8/50\n",
      "10/10 [==============================] - 1s 63ms/step - loss: 0.1729 - val_loss: 0.1522\n",
      "Epoch 9/50\n",
      "10/10 [==============================] - 1s 64ms/step - loss: 0.1685 - val_loss: 0.1486\n",
      "Epoch 10/50\n",
      "10/10 [==============================] - 1s 61ms/step - loss: 0.1664 - val_loss: 0.1469\n",
      "Epoch 11/50\n",
      "10/10 [==============================] - 1s 63ms/step - loss: 0.1647 - val_loss: 0.1468\n",
      "Epoch 12/50\n",
      "10/10 [==============================] - 1s 61ms/step - loss: 0.1636 - val_loss: 0.1462\n",
      "Epoch 13/50\n",
      "10/10 [==============================] - 1s 63ms/step - loss: 0.1627 - val_loss: 0.1460\n",
      "Epoch 14/50\n",
      "10/10 [==============================] - 1s 63ms/step - loss: 0.1627 - val_loss: 0.1454\n",
      "Epoch 15/50\n",
      "10/10 [==============================] - 1s 61ms/step - loss: 0.1614 - val_loss: 0.1448\n",
      "Epoch 16/50\n",
      "10/10 [==============================] - 1s 64ms/step - loss: 0.1610 - val_loss: 0.1442\n",
      "Epoch 17/50\n",
      "10/10 [==============================] - 1s 65ms/step - loss: 0.1594 - val_loss: 0.1450\n",
      "Epoch 18/50\n",
      "10/10 [==============================] - 1s 60ms/step - loss: 0.1595 - val_loss: 0.1445\n",
      "Epoch 19/50\n",
      "10/10 [==============================] - 1s 63ms/step - loss: 0.1593 - val_loss: 0.1435\n",
      "Epoch 20/50\n",
      "10/10 [==============================] - 1s 64ms/step - loss: 0.1586 - val_loss: 0.1432\n",
      "Epoch 21/50\n",
      "10/10 [==============================] - 1s 62ms/step - loss: 0.1590 - val_loss: 0.1420\n",
      "Epoch 22/50\n",
      "10/10 [==============================] - 1s 59ms/step - loss: 0.1576 - val_loss: 0.1434\n",
      "Epoch 23/50\n",
      "10/10 [==============================] - 1s 60ms/step - loss: 0.1567 - val_loss: 0.1423\n",
      "Epoch 24/50\n",
      "10/10 [==============================] - 1s 66ms/step - loss: 0.1561 - val_loss: 0.1418\n",
      "Epoch 25/50\n",
      "10/10 [==============================] - 1s 62ms/step - loss: 0.1558 - val_loss: 0.1418\n",
      "Epoch 26/50\n",
      "10/10 [==============================] - 1s 62ms/step - loss: 0.1556 - val_loss: 0.1415\n",
      "Epoch 27/50\n",
      "10/10 [==============================] - 1s 58ms/step - loss: 0.1547 - val_loss: 0.1412\n",
      "Epoch 28/50\n",
      "10/10 [==============================] - 1s 63ms/step - loss: 0.1547 - val_loss: 0.1404\n",
      "Epoch 29/50\n",
      "10/10 [==============================] - 1s 66ms/step - loss: 0.1543 - val_loss: 0.1410\n",
      "Epoch 30/50\n",
      "10/10 [==============================] - 1s 64ms/step - loss: 0.1544 - val_loss: 0.1401\n",
      "Epoch 31/50\n",
      "10/10 [==============================] - 1s 66ms/step - loss: 0.1541 - val_loss: 0.1396\n",
      "Epoch 32/50\n",
      "10/10 [==============================] - 1s 61ms/step - loss: 0.1533 - val_loss: 0.1407\n",
      "Epoch 33/50\n",
      "10/10 [==============================] - 1s 60ms/step - loss: 0.1529 - val_loss: 0.1401\n",
      "Epoch 34/50\n",
      "10/10 [==============================] - 1s 64ms/step - loss: 0.1524 - val_loss: 0.1399\n",
      "Epoch 35/50\n",
      "10/10 [==============================] - 1s 64ms/step - loss: 0.1523 - val_loss: 0.1402\n"
     ]
    },
    {
     "name": "stderr",
     "output_type": "stream",
     "text": [
      "WARNING:absl:Found untraced functions such as _update_step_xla, lstm_cell_1_layer_call_fn, lstm_cell_1_layer_call_and_return_conditional_losses while saving (showing 3 of 3). These functions will not be directly callable after loading.\n"
     ]
    },
    {
     "name": "stdout",
     "output_type": "stream",
     "text": [
      "INFO:tensorflow:Assets written to: saved_models/lstm11/assets\n"
     ]
    },
    {
     "name": "stderr",
     "output_type": "stream",
     "text": [
      "INFO:tensorflow:Assets written to: saved_models/lstm11/assets\n"
     ]
    },
    {
     "name": "stdout",
     "output_type": "stream",
     "text": [
      "2/2 [==============================] - 0s 19ms/step\n",
      "Feature: 1 Group: 0\n",
      "Epoch 1/50\n",
      "4/4 [==============================] - 0s 81ms/step - loss: 1.0440 - val_loss: 0.7032\n",
      "Epoch 2/50\n",
      "4/4 [==============================] - 0s 66ms/step - loss: 0.8816 - val_loss: 0.5645\n",
      "Epoch 3/50\n",
      "4/4 [==============================] - 0s 66ms/step - loss: 0.7761 - val_loss: 0.5280\n",
      "Epoch 4/50\n",
      "4/4 [==============================] - 0s 59ms/step - loss: 0.7076 - val_loss: 0.5086\n",
      "Epoch 5/50\n",
      "4/4 [==============================] - 0s 65ms/step - loss: 0.6652 - val_loss: 0.4835\n",
      "Epoch 6/50\n",
      "4/4 [==============================] - 0s 70ms/step - loss: 0.6313 - val_loss: 0.4576\n",
      "Epoch 7/50\n",
      "4/4 [==============================] - 0s 58ms/step - loss: 0.6018 - val_loss: 0.4358\n",
      "Epoch 8/50\n",
      "4/4 [==============================] - 0s 72ms/step - loss: 0.5742 - val_loss: 0.4187\n",
      "Epoch 9/50\n",
      "4/4 [==============================] - 0s 71ms/step - loss: 0.5532 - val_loss: 0.4067\n",
      "Epoch 10/50\n",
      "4/4 [==============================] - 0s 58ms/step - loss: 0.5360 - val_loss: 0.3974\n",
      "Epoch 11/50\n",
      "4/4 [==============================] - 0s 63ms/step - loss: 0.5194 - val_loss: 0.3890\n",
      "Epoch 12/50\n",
      "4/4 [==============================] - 0s 63ms/step - loss: 0.5048 - val_loss: 0.3805\n",
      "Epoch 13/50\n",
      "4/4 [==============================] - 0s 62ms/step - loss: 0.4916 - val_loss: 0.3719\n",
      "Epoch 14/50\n",
      "4/4 [==============================] - 0s 63ms/step - loss: 0.4782 - val_loss: 0.3639\n",
      "Epoch 15/50\n",
      "4/4 [==============================] - 0s 63ms/step - loss: 0.4681 - val_loss: 0.3574\n",
      "Epoch 16/50\n",
      "4/4 [==============================] - 0s 69ms/step - loss: 0.4577 - val_loss: 0.3515\n",
      "Epoch 17/50\n",
      "4/4 [==============================] - 0s 62ms/step - loss: 0.4493 - val_loss: 0.3478\n",
      "Epoch 18/50\n",
      "4/4 [==============================] - 0s 72ms/step - loss: 0.4409 - val_loss: 0.3461\n",
      "Epoch 19/50\n",
      "4/4 [==============================] - 0s 64ms/step - loss: 0.4338 - val_loss: 0.3447\n",
      "Epoch 20/50\n",
      "4/4 [==============================] - 0s 70ms/step - loss: 0.4271 - val_loss: 0.3424\n",
      "Epoch 21/50\n",
      "4/4 [==============================] - 0s 63ms/step - loss: 0.4211 - val_loss: 0.3400\n",
      "Epoch 22/50\n",
      "4/4 [==============================] - 0s 64ms/step - loss: 0.4159 - val_loss: 0.3383\n",
      "Epoch 23/50\n",
      "4/4 [==============================] - 0s 61ms/step - loss: 0.4110 - val_loss: 0.3362\n",
      "Epoch 24/50\n",
      "4/4 [==============================] - 0s 64ms/step - loss: 0.4066 - val_loss: 0.3335\n",
      "Epoch 25/50\n",
      "4/4 [==============================] - 0s 79ms/step - loss: 0.4031 - val_loss: 0.3331\n",
      "Epoch 26/50\n",
      "4/4 [==============================] - 0s 69ms/step - loss: 0.3998 - val_loss: 0.3334\n",
      "Epoch 27/50\n",
      "4/4 [==============================] - 0s 70ms/step - loss: 0.3961 - val_loss: 0.3337\n",
      "Epoch 28/50\n",
      "4/4 [==============================] - 0s 66ms/step - loss: 0.3938 - val_loss: 0.3339\n",
      "Epoch 29/50\n",
      "4/4 [==============================] - 0s 66ms/step - loss: 0.3906 - val_loss: 0.3335\n"
     ]
    },
    {
     "name": "stderr",
     "output_type": "stream",
     "text": [
      "WARNING:absl:Found untraced functions such as _update_step_xla, lstm_cell_1_layer_call_fn, lstm_cell_1_layer_call_and_return_conditional_losses while saving (showing 3 of 3). These functions will not be directly callable after loading.\n"
     ]
    },
    {
     "name": "stdout",
     "output_type": "stream",
     "text": [
      "INFO:tensorflow:Assets written to: saved_models/lstm10/assets\n"
     ]
    },
    {
     "name": "stderr",
     "output_type": "stream",
     "text": [
      "INFO:tensorflow:Assets written to: saved_models/lstm10/assets\n"
     ]
    },
    {
     "name": "stdout",
     "output_type": "stream",
     "text": [
      "1/1 [==============================] - 0s 23ms/step\n",
      "Feature: 2 Group: 1\n",
      "Epoch 1/50\n",
      "10/10 [==============================] - 1s 64ms/step - loss: 0.6846 - val_loss: 0.4532\n",
      "Epoch 2/50\n",
      "10/10 [==============================] - 1s 62ms/step - loss: 0.3495 - val_loss: 0.2375\n",
      "Epoch 3/50\n",
      "10/10 [==============================] - 1s 63ms/step - loss: 0.2151 - val_loss: 0.1661\n",
      "Epoch 4/50\n",
      "10/10 [==============================] - 1s 64ms/step - loss: 0.1730 - val_loss: 0.1479\n",
      "Epoch 5/50\n",
      "10/10 [==============================] - 1s 64ms/step - loss: 0.1652 - val_loss: 0.1454\n",
      "Epoch 6/50\n",
      "10/10 [==============================] - 1s 63ms/step - loss: 0.1622 - val_loss: 0.1492\n",
      "Epoch 7/50\n",
      "10/10 [==============================] - 1s 65ms/step - loss: 0.1609 - val_loss: 0.1481\n",
      "Epoch 8/50\n",
      "10/10 [==============================] - 1s 64ms/step - loss: 0.1595 - val_loss: 0.1459\n",
      "Epoch 9/50\n",
      "10/10 [==============================] - 1s 65ms/step - loss: 0.1581 - val_loss: 0.1435\n",
      "Epoch 10/50\n",
      "10/10 [==============================] - 1s 64ms/step - loss: 0.1582 - val_loss: 0.1433\n",
      "Epoch 11/50\n",
      "10/10 [==============================] - 1s 61ms/step - loss: 0.1577 - val_loss: 0.1441\n",
      "Epoch 12/50\n",
      "10/10 [==============================] - 1s 63ms/step - loss: 0.1574 - val_loss: 0.1446\n",
      "Epoch 13/50\n",
      "10/10 [==============================] - 1s 65ms/step - loss: 0.1561 - val_loss: 0.1491\n",
      "Epoch 14/50\n",
      "10/10 [==============================] - 1s 65ms/step - loss: 0.1561 - val_loss: 0.1496\n"
     ]
    },
    {
     "name": "stderr",
     "output_type": "stream",
     "text": [
      "WARNING:absl:Found untraced functions such as _update_step_xla, lstm_cell_1_layer_call_fn, lstm_cell_1_layer_call_and_return_conditional_losses while saving (showing 3 of 3). These functions will not be directly callable after loading.\n"
     ]
    },
    {
     "name": "stdout",
     "output_type": "stream",
     "text": [
      "INFO:tensorflow:Assets written to: saved_models/lstm21/assets\n"
     ]
    },
    {
     "name": "stderr",
     "output_type": "stream",
     "text": [
      "INFO:tensorflow:Assets written to: saved_models/lstm21/assets\n"
     ]
    },
    {
     "name": "stdout",
     "output_type": "stream",
     "text": [
      "2/2 [==============================] - 0s 12ms/step\n",
      "Feature: 2 Group: 0\n",
      "Epoch 1/50\n",
      "4/4 [==============================] - 0s 72ms/step - loss: 1.0622 - val_loss: 0.7619\n",
      "Epoch 2/50\n",
      "4/4 [==============================] - 0s 64ms/step - loss: 0.9283 - val_loss: 0.5924\n",
      "Epoch 3/50\n",
      "4/4 [==============================] - 0s 64ms/step - loss: 0.7834 - val_loss: 0.4889\n",
      "Epoch 4/50\n",
      "4/4 [==============================] - 0s 63ms/step - loss: 0.6756 - val_loss: 0.4441\n",
      "Epoch 5/50\n",
      "4/4 [==============================] - 0s 68ms/step - loss: 0.5976 - val_loss: 0.4272\n",
      "Epoch 6/50\n",
      "4/4 [==============================] - 0s 63ms/step - loss: 0.5540 - val_loss: 0.4023\n",
      "Epoch 7/50\n",
      "4/4 [==============================] - 0s 61ms/step - loss: 0.5204 - val_loss: 0.3824\n",
      "Epoch 8/50\n",
      "4/4 [==============================] - 0s 57ms/step - loss: 0.4925 - val_loss: 0.3684\n",
      "Epoch 9/50\n",
      "4/4 [==============================] - 0s 68ms/step - loss: 0.4733 - val_loss: 0.3606\n",
      "Epoch 10/50\n",
      "4/4 [==============================] - 0s 66ms/step - loss: 0.4615 - val_loss: 0.3534\n",
      "Epoch 11/50\n",
      "4/4 [==============================] - 0s 64ms/step - loss: 0.4513 - val_loss: 0.3475\n",
      "Epoch 12/50\n",
      "4/4 [==============================] - 0s 68ms/step - loss: 0.4417 - val_loss: 0.3423\n",
      "Epoch 13/50\n",
      "4/4 [==============================] - 0s 71ms/step - loss: 0.4357 - val_loss: 0.3380\n",
      "Epoch 14/50\n",
      "4/4 [==============================] - 0s 76ms/step - loss: 0.4287 - val_loss: 0.3356\n",
      "Epoch 15/50\n",
      "4/4 [==============================] - 0s 59ms/step - loss: 0.4234 - val_loss: 0.3348\n",
      "Epoch 16/50\n",
      "4/4 [==============================] - 0s 62ms/step - loss: 0.4190 - val_loss: 0.3343\n",
      "Epoch 17/50\n",
      "4/4 [==============================] - 0s 67ms/step - loss: 0.4145 - val_loss: 0.3336\n",
      "Epoch 18/50\n",
      "4/4 [==============================] - 0s 64ms/step - loss: 0.4105 - val_loss: 0.3332\n",
      "Epoch 19/50\n",
      "4/4 [==============================] - 0s 68ms/step - loss: 0.4068 - val_loss: 0.3330\n",
      "Epoch 20/50\n",
      "4/4 [==============================] - 0s 69ms/step - loss: 0.4035 - val_loss: 0.3325\n",
      "Epoch 21/50\n",
      "4/4 [==============================] - 0s 65ms/step - loss: 0.4009 - val_loss: 0.3347\n",
      "Epoch 22/50\n",
      "4/4 [==============================] - 0s 67ms/step - loss: 0.3979 - val_loss: 0.3361\n",
      "Epoch 23/50\n",
      "4/4 [==============================] - 0s 68ms/step - loss: 0.3953 - val_loss: 0.3369\n",
      "Epoch 24/50\n",
      "4/4 [==============================] - 0s 63ms/step - loss: 0.3930 - val_loss: 0.3397\n"
     ]
    },
    {
     "name": "stderr",
     "output_type": "stream",
     "text": [
      "WARNING:absl:Found untraced functions such as _update_step_xla, lstm_cell_1_layer_call_fn, lstm_cell_1_layer_call_and_return_conditional_losses while saving (showing 3 of 3). These functions will not be directly callable after loading.\n"
     ]
    },
    {
     "name": "stdout",
     "output_type": "stream",
     "text": [
      "INFO:tensorflow:Assets written to: saved_models/lstm20/assets\n"
     ]
    },
    {
     "name": "stderr",
     "output_type": "stream",
     "text": [
      "INFO:tensorflow:Assets written to: saved_models/lstm20/assets\n"
     ]
    },
    {
     "name": "stdout",
     "output_type": "stream",
     "text": [
      "1/1 [==============================] - 0s 21ms/step\n",
      "Feature: 3 Group: 0\n",
      "Epoch 1/50\n",
      "10/10 [==============================] - 1s 66ms/step - loss: 0.8359 - val_loss: 0.5834\n",
      "Epoch 2/50\n",
      "10/10 [==============================] - 1s 65ms/step - loss: 0.4424 - val_loss: 0.3344\n",
      "Epoch 3/50\n",
      "10/10 [==============================] - 1s 66ms/step - loss: 0.2782 - val_loss: 0.2215\n",
      "Epoch 4/50\n",
      "10/10 [==============================] - 1s 57ms/step - loss: 0.2064 - val_loss: 0.1744\n",
      "Epoch 5/50\n",
      "10/10 [==============================] - 1s 64ms/step - loss: 0.1785 - val_loss: 0.1580\n",
      "Epoch 6/50\n",
      "10/10 [==============================] - 1s 64ms/step - loss: 0.1685 - val_loss: 0.1511\n",
      "Epoch 7/50\n",
      "10/10 [==============================] - 1s 62ms/step - loss: 0.1648 - val_loss: 0.1488\n",
      "Epoch 8/50\n",
      "10/10 [==============================] - 1s 66ms/step - loss: 0.1632 - val_loss: 0.1479\n",
      "Epoch 9/50\n",
      "10/10 [==============================] - 1s 57ms/step - loss: 0.1617 - val_loss: 0.1473\n",
      "Epoch 10/50\n",
      "10/10 [==============================] - 1s 62ms/step - loss: 0.1588 - val_loss: 0.1459\n",
      "Epoch 11/50\n",
      "10/10 [==============================] - 1s 65ms/step - loss: 0.1572 - val_loss: 0.1449\n",
      "Epoch 12/50\n",
      "10/10 [==============================] - 1s 61ms/step - loss: 0.1561 - val_loss: 0.1444\n",
      "Epoch 13/50\n",
      "10/10 [==============================] - 1s 59ms/step - loss: 0.1556 - val_loss: 0.1438\n",
      "Epoch 14/50\n",
      "10/10 [==============================] - 1s 60ms/step - loss: 0.1552 - val_loss: 0.1434\n",
      "Epoch 15/50\n",
      "10/10 [==============================] - 1s 63ms/step - loss: 0.1549 - val_loss: 0.1436\n",
      "Epoch 16/50\n",
      "10/10 [==============================] - 1s 66ms/step - loss: 0.1545 - val_loss: 0.1431\n",
      "Epoch 17/50\n",
      "10/10 [==============================] - 1s 63ms/step - loss: 0.1541 - val_loss: 0.1429\n",
      "Epoch 18/50\n",
      "10/10 [==============================] - 1s 60ms/step - loss: 0.1538 - val_loss: 0.1437\n",
      "Epoch 19/50\n",
      "10/10 [==============================] - 1s 61ms/step - loss: 0.1535 - val_loss: 0.1436\n",
      "Epoch 20/50\n",
      "10/10 [==============================] - 1s 65ms/step - loss: 0.1534 - val_loss: 0.1430\n",
      "Epoch 21/50\n",
      "10/10 [==============================] - 1s 60ms/step - loss: 0.1528 - val_loss: 0.1426\n",
      "Epoch 22/50\n",
      "10/10 [==============================] - 1s 64ms/step - loss: 0.1527 - val_loss: 0.1429\n",
      "Epoch 23/50\n",
      "10/10 [==============================] - 1s 63ms/step - loss: 0.1522 - val_loss: 0.1431\n",
      "Epoch 24/50\n",
      "10/10 [==============================] - 1s 57ms/step - loss: 0.1519 - val_loss: 0.1430\n",
      "Epoch 25/50\n",
      "10/10 [==============================] - 1s 63ms/step - loss: 0.1515 - val_loss: 0.1420\n",
      "Epoch 26/50\n",
      "10/10 [==============================] - 1s 64ms/step - loss: 0.1512 - val_loss: 0.1428\n",
      "Epoch 27/50\n",
      "10/10 [==============================] - 1s 66ms/step - loss: 0.1510 - val_loss: 0.1427\n",
      "Epoch 28/50\n",
      "10/10 [==============================] - 1s 67ms/step - loss: 0.1505 - val_loss: 0.1425\n",
      "Epoch 29/50\n",
      "10/10 [==============================] - 1s 58ms/step - loss: 0.1504 - val_loss: 0.1423\n"
     ]
    },
    {
     "name": "stderr",
     "output_type": "stream",
     "text": [
      "WARNING:absl:Found untraced functions such as _update_step_xla, lstm_cell_1_layer_call_fn, lstm_cell_1_layer_call_and_return_conditional_losses while saving (showing 3 of 3). These functions will not be directly callable after loading.\n"
     ]
    },
    {
     "name": "stdout",
     "output_type": "stream",
     "text": [
      "INFO:tensorflow:Assets written to: saved_models/lstm30/assets\n"
     ]
    },
    {
     "name": "stderr",
     "output_type": "stream",
     "text": [
      "INFO:tensorflow:Assets written to: saved_models/lstm30/assets\n"
     ]
    },
    {
     "name": "stdout",
     "output_type": "stream",
     "text": [
      "2/2 [==============================] - 0s 17ms/step\n",
      "Feature: 3 Group: 1\n",
      "Epoch 1/50\n",
      "4/4 [==============================] - 0s 68ms/step - loss: 1.0530 - val_loss: 0.8273\n",
      "Epoch 2/50\n",
      "4/4 [==============================] - 0s 67ms/step - loss: 0.9024 - val_loss: 0.6470\n",
      "Epoch 3/50\n",
      "4/4 [==============================] - 0s 67ms/step - loss: 0.7912 - val_loss: 0.5127\n",
      "Epoch 4/50\n",
      "4/4 [==============================] - 0s 64ms/step - loss: 0.7033 - val_loss: 0.4650\n",
      "Epoch 5/50\n",
      "4/4 [==============================] - 0s 76ms/step - loss: 0.6303 - val_loss: 0.4298\n",
      "Epoch 6/50\n",
      "4/4 [==============================] - 0s 60ms/step - loss: 0.5765 - val_loss: 0.4061\n",
      "Epoch 7/50\n",
      "4/4 [==============================] - 0s 74ms/step - loss: 0.5363 - val_loss: 0.3889\n",
      "Epoch 8/50\n",
      "4/4 [==============================] - 0s 62ms/step - loss: 0.5065 - val_loss: 0.3752\n",
      "Epoch 9/50\n",
      "4/4 [==============================] - 0s 74ms/step - loss: 0.4852 - val_loss: 0.3631\n",
      "Epoch 10/50\n",
      "4/4 [==============================] - 0s 73ms/step - loss: 0.4682 - val_loss: 0.3520\n",
      "Epoch 11/50\n",
      "4/4 [==============================] - 0s 67ms/step - loss: 0.4546 - val_loss: 0.3436\n",
      "Epoch 12/50\n",
      "4/4 [==============================] - 0s 65ms/step - loss: 0.4441 - val_loss: 0.3368\n",
      "Epoch 13/50\n",
      "4/4 [==============================] - 0s 59ms/step - loss: 0.4353 - val_loss: 0.3321\n",
      "Epoch 14/50\n",
      "4/4 [==============================] - 0s 77ms/step - loss: 0.4295 - val_loss: 0.3287\n",
      "Epoch 15/50\n",
      "4/4 [==============================] - 0s 66ms/step - loss: 0.4238 - val_loss: 0.3266\n",
      "Epoch 16/50\n",
      "4/4 [==============================] - 0s 72ms/step - loss: 0.4193 - val_loss: 0.3250\n",
      "Epoch 17/50\n",
      "4/4 [==============================] - 0s 67ms/step - loss: 0.4147 - val_loss: 0.3244\n",
      "Epoch 18/50\n",
      "4/4 [==============================] - 0s 65ms/step - loss: 0.4112 - val_loss: 0.3245\n",
      "Epoch 19/50\n",
      "4/4 [==============================] - 0s 59ms/step - loss: 0.4075 - val_loss: 0.3247\n",
      "Epoch 20/50\n",
      "4/4 [==============================] - 0s 67ms/step - loss: 0.4055 - val_loss: 0.3254\n",
      "Epoch 21/50\n",
      "4/4 [==============================] - 0s 64ms/step - loss: 0.4028 - val_loss: 0.3242\n",
      "Epoch 22/50\n",
      "4/4 [==============================] - 0s 73ms/step - loss: 0.4010 - val_loss: 0.3267\n",
      "Epoch 23/50\n",
      "4/4 [==============================] - 0s 68ms/step - loss: 0.3980 - val_loss: 0.3268\n",
      "Epoch 24/50\n",
      "4/4 [==============================] - 0s 63ms/step - loss: 0.3963 - val_loss: 0.3286\n",
      "Epoch 25/50\n",
      "4/4 [==============================] - 0s 70ms/step - loss: 0.3961 - val_loss: 0.3282\n"
     ]
    },
    {
     "name": "stderr",
     "output_type": "stream",
     "text": [
      "WARNING:absl:Found untraced functions such as _update_step_xla, lstm_cell_1_layer_call_fn, lstm_cell_1_layer_call_and_return_conditional_losses while saving (showing 3 of 3). These functions will not be directly callable after loading.\n"
     ]
    },
    {
     "name": "stdout",
     "output_type": "stream",
     "text": [
      "INFO:tensorflow:Assets written to: saved_models/lstm31/assets\n"
     ]
    },
    {
     "name": "stderr",
     "output_type": "stream",
     "text": [
      "INFO:tensorflow:Assets written to: saved_models/lstm31/assets\n"
     ]
    },
    {
     "name": "stdout",
     "output_type": "stream",
     "text": [
      "1/1 [==============================] - 0s 30ms/step\n",
      "Feature: 4 Group: 0\n",
      "Epoch 1/50\n",
      "10/10 [==============================] - 1s 66ms/step - loss: 0.8282 - val_loss: 0.6535\n",
      "Epoch 2/50\n",
      "10/10 [==============================] - 1s 64ms/step - loss: 0.5129 - val_loss: 0.4002\n",
      "Epoch 3/50\n",
      "10/10 [==============================] - 1s 65ms/step - loss: 0.3203 - val_loss: 0.2631\n",
      "Epoch 4/50\n",
      "10/10 [==============================] - 1s 69ms/step - loss: 0.2254 - val_loss: 0.2031\n",
      "Epoch 5/50\n",
      "10/10 [==============================] - 1s 63ms/step - loss: 0.1839 - val_loss: 0.1752\n",
      "Epoch 6/50\n",
      "10/10 [==============================] - 1s 65ms/step - loss: 0.1669 - val_loss: 0.1549\n",
      "Epoch 7/50\n",
      "10/10 [==============================] - 1s 60ms/step - loss: 0.1596 - val_loss: 0.1510\n",
      "Epoch 8/50\n",
      "10/10 [==============================] - 1s 64ms/step - loss: 0.1574 - val_loss: 0.1493\n",
      "Epoch 9/50\n",
      "10/10 [==============================] - 1s 68ms/step - loss: 0.1563 - val_loss: 0.1505\n",
      "Epoch 10/50\n",
      "10/10 [==============================] - 1s 63ms/step - loss: 0.1563 - val_loss: 0.1496\n",
      "Epoch 11/50\n",
      "10/10 [==============================] - 1s 60ms/step - loss: 0.1556 - val_loss: 0.1498\n",
      "Epoch 12/50\n",
      "10/10 [==============================] - 1s 61ms/step - loss: 0.1550 - val_loss: 0.1496\n"
     ]
    },
    {
     "name": "stderr",
     "output_type": "stream",
     "text": [
      "WARNING:absl:Found untraced functions such as _update_step_xla, lstm_cell_1_layer_call_fn, lstm_cell_1_layer_call_and_return_conditional_losses while saving (showing 3 of 3). These functions will not be directly callable after loading.\n"
     ]
    },
    {
     "name": "stdout",
     "output_type": "stream",
     "text": [
      "INFO:tensorflow:Assets written to: saved_models/lstm40/assets\n"
     ]
    },
    {
     "name": "stderr",
     "output_type": "stream",
     "text": [
      "INFO:tensorflow:Assets written to: saved_models/lstm40/assets\n"
     ]
    },
    {
     "name": "stdout",
     "output_type": "stream",
     "text": [
      "2/2 [==============================] - 0s 12ms/step\n",
      "Feature: 4 Group: 1\n",
      "Epoch 1/50\n",
      "4/4 [==============================] - 0s 66ms/step - loss: 1.0264 - val_loss: 0.7323\n",
      "Epoch 2/50\n",
      "4/4 [==============================] - 0s 63ms/step - loss: 0.9353 - val_loss: 0.6346\n",
      "Epoch 3/50\n",
      "4/4 [==============================] - 0s 71ms/step - loss: 0.8314 - val_loss: 0.5538\n",
      "Epoch 4/50\n",
      "4/4 [==============================] - 0s 66ms/step - loss: 0.7545 - val_loss: 0.5025\n",
      "Epoch 5/50\n",
      "4/4 [==============================] - 0s 65ms/step - loss: 0.6887 - val_loss: 0.4650\n",
      "Epoch 6/50\n",
      "4/4 [==============================] - 0s 67ms/step - loss: 0.6125 - val_loss: 0.4374\n",
      "Epoch 7/50\n",
      "4/4 [==============================] - 0s 66ms/step - loss: 0.5544 - val_loss: 0.4175\n",
      "Epoch 8/50\n",
      "4/4 [==============================] - 0s 66ms/step - loss: 0.5222 - val_loss: 0.4001\n",
      "Epoch 9/50\n",
      "4/4 [==============================] - 0s 76ms/step - loss: 0.4972 - val_loss: 0.3846\n",
      "Epoch 10/50\n",
      "4/4 [==============================] - 0s 60ms/step - loss: 0.4782 - val_loss: 0.3729\n",
      "Epoch 11/50\n",
      "4/4 [==============================] - 0s 68ms/step - loss: 0.4643 - val_loss: 0.3629\n",
      "Epoch 12/50\n",
      "4/4 [==============================] - 0s 60ms/step - loss: 0.4522 - val_loss: 0.3547\n",
      "Epoch 13/50\n",
      "4/4 [==============================] - 0s 68ms/step - loss: 0.4445 - val_loss: 0.3478\n",
      "Epoch 14/50\n",
      "4/4 [==============================] - 0s 64ms/step - loss: 0.4375 - val_loss: 0.3424\n",
      "Epoch 15/50\n",
      "4/4 [==============================] - 0s 60ms/step - loss: 0.4315 - val_loss: 0.3380\n",
      "Epoch 16/50\n",
      "4/4 [==============================] - 0s 71ms/step - loss: 0.4260 - val_loss: 0.3342\n",
      "Epoch 17/50\n",
      "4/4 [==============================] - 0s 67ms/step - loss: 0.4218 - val_loss: 0.3316\n",
      "Epoch 18/50\n",
      "4/4 [==============================] - 0s 62ms/step - loss: 0.4180 - val_loss: 0.3300\n",
      "Epoch 19/50\n",
      "4/4 [==============================] - 0s 62ms/step - loss: 0.4143 - val_loss: 0.3288\n",
      "Epoch 20/50\n",
      "4/4 [==============================] - 0s 65ms/step - loss: 0.4117 - val_loss: 0.3281\n",
      "Epoch 21/50\n",
      "4/4 [==============================] - 0s 67ms/step - loss: 0.4093 - val_loss: 0.3279\n",
      "Epoch 22/50\n",
      "4/4 [==============================] - 0s 62ms/step - loss: 0.4072 - val_loss: 0.3265\n",
      "Epoch 23/50\n",
      "4/4 [==============================] - 0s 65ms/step - loss: 0.4049 - val_loss: 0.3248\n",
      "Epoch 24/50\n",
      "4/4 [==============================] - 0s 69ms/step - loss: 0.4043 - val_loss: 0.3227\n",
      "Epoch 25/50\n",
      "4/4 [==============================] - 0s 60ms/step - loss: 0.4021 - val_loss: 0.3224\n",
      "Epoch 26/50\n",
      "4/4 [==============================] - 0s 69ms/step - loss: 0.4007 - val_loss: 0.3227\n",
      "Epoch 27/50\n",
      "4/4 [==============================] - 0s 70ms/step - loss: 0.3996 - val_loss: 0.3233\n",
      "Epoch 28/50\n",
      "4/4 [==============================] - 0s 66ms/step - loss: 0.3976 - val_loss: 0.3239\n",
      "Epoch 29/50\n",
      "4/4 [==============================] - 0s 68ms/step - loss: 0.3960 - val_loss: 0.3250\n"
     ]
    },
    {
     "name": "stderr",
     "output_type": "stream",
     "text": [
      "WARNING:absl:Found untraced functions such as _update_step_xla, lstm_cell_1_layer_call_fn, lstm_cell_1_layer_call_and_return_conditional_losses while saving (showing 3 of 3). These functions will not be directly callable after loading.\n"
     ]
    },
    {
     "name": "stdout",
     "output_type": "stream",
     "text": [
      "INFO:tensorflow:Assets written to: saved_models/lstm41/assets\n"
     ]
    },
    {
     "name": "stderr",
     "output_type": "stream",
     "text": [
      "INFO:tensorflow:Assets written to: saved_models/lstm41/assets\n"
     ]
    },
    {
     "name": "stdout",
     "output_type": "stream",
     "text": [
      "1/1 [==============================] - 0s 22ms/step\n",
      "Feature: 5 Group: 0\n",
      "Epoch 1/50\n",
      "10/10 [==============================] - 1s 69ms/step - loss: 0.7849 - val_loss: 0.5612\n",
      "Epoch 2/50\n",
      "10/10 [==============================] - 1s 64ms/step - loss: 0.4236 - val_loss: 0.3039\n",
      "Epoch 3/50\n",
      "10/10 [==============================] - 1s 64ms/step - loss: 0.2591 - val_loss: 0.2261\n",
      "Epoch 4/50\n",
      "10/10 [==============================] - 1s 57ms/step - loss: 0.2066 - val_loss: 0.1950\n",
      "Epoch 5/50\n",
      "10/10 [==============================] - 1s 63ms/step - loss: 0.1809 - val_loss: 0.1809\n",
      "Epoch 6/50\n",
      "10/10 [==============================] - 1s 60ms/step - loss: 0.1692 - val_loss: 0.1849\n",
      "Epoch 7/50\n",
      "10/10 [==============================] - 1s 60ms/step - loss: 0.1633 - val_loss: 0.1847\n",
      "Epoch 8/50\n",
      "10/10 [==============================] - 1s 63ms/step - loss: 0.1599 - val_loss: 0.1841\n",
      "Epoch 9/50\n",
      "10/10 [==============================] - 1s 58ms/step - loss: 0.1585 - val_loss: 0.1831\n"
     ]
    },
    {
     "name": "stderr",
     "output_type": "stream",
     "text": [
      "WARNING:absl:Found untraced functions such as _update_step_xla, lstm_cell_1_layer_call_fn, lstm_cell_1_layer_call_and_return_conditional_losses while saving (showing 3 of 3). These functions will not be directly callable after loading.\n"
     ]
    },
    {
     "name": "stdout",
     "output_type": "stream",
     "text": [
      "INFO:tensorflow:Assets written to: saved_models/lstm50/assets\n"
     ]
    },
    {
     "name": "stderr",
     "output_type": "stream",
     "text": [
      "INFO:tensorflow:Assets written to: saved_models/lstm50/assets\n"
     ]
    },
    {
     "name": "stdout",
     "output_type": "stream",
     "text": [
      "2/2 [==============================] - 0s 26ms/step\n",
      "Feature: 5 Group: 2\n",
      "Epoch 1/50\n",
      "3/3 [==============================] - 0s 76ms/step - loss: 0.3915 - val_loss: 0.2834\n",
      "Epoch 2/50\n",
      "3/3 [==============================] - 0s 72ms/step - loss: 0.3747 - val_loss: 0.2554\n",
      "Epoch 3/50\n",
      "3/3 [==============================] - 0s 69ms/step - loss: 0.3414 - val_loss: 0.2295\n",
      "Epoch 4/50\n",
      "3/3 [==============================] - 0s 67ms/step - loss: 0.3146 - val_loss: 0.2128\n",
      "Epoch 5/50\n",
      "3/3 [==============================] - 0s 76ms/step - loss: 0.2967 - val_loss: 0.2058\n",
      "Epoch 6/50\n",
      "3/3 [==============================] - 0s 68ms/step - loss: 0.2835 - val_loss: 0.2058\n",
      "Epoch 7/50\n",
      "3/3 [==============================] - 0s 76ms/step - loss: 0.2721 - val_loss: 0.2052\n",
      "Epoch 8/50\n",
      "3/3 [==============================] - 0s 65ms/step - loss: 0.2660 - val_loss: 0.2046\n",
      "Epoch 9/50\n",
      "3/3 [==============================] - 0s 65ms/step - loss: 0.2597 - val_loss: 0.2008\n",
      "Epoch 10/50\n",
      "3/3 [==============================] - 0s 77ms/step - loss: 0.2548 - val_loss: 0.1959\n",
      "Epoch 11/50\n",
      "3/3 [==============================] - 0s 70ms/step - loss: 0.2516 - val_loss: 0.1929\n",
      "Epoch 12/50\n",
      "3/3 [==============================] - 0s 68ms/step - loss: 0.2491 - val_loss: 0.1894\n",
      "Epoch 13/50\n",
      "3/3 [==============================] - 0s 64ms/step - loss: 0.2472 - val_loss: 0.1891\n",
      "Epoch 14/50\n",
      "3/3 [==============================] - 0s 65ms/step - loss: 0.2459 - val_loss: 0.1898\n",
      "Epoch 15/50\n",
      "3/3 [==============================] - 0s 70ms/step - loss: 0.2444 - val_loss: 0.1937\n",
      "Epoch 16/50\n",
      "3/3 [==============================] - 0s 66ms/step - loss: 0.2422 - val_loss: 0.1948\n",
      "Epoch 17/50\n",
      "3/3 [==============================] - 0s 70ms/step - loss: 0.2406 - val_loss: 0.1933\n"
     ]
    },
    {
     "name": "stderr",
     "output_type": "stream",
     "text": [
      "WARNING:absl:Found untraced functions such as _update_step_xla, lstm_cell_1_layer_call_fn, lstm_cell_1_layer_call_and_return_conditional_losses while saving (showing 3 of 3). These functions will not be directly callable after loading.\n"
     ]
    },
    {
     "name": "stdout",
     "output_type": "stream",
     "text": [
      "INFO:tensorflow:Assets written to: saved_models/lstm52/assets\n"
     ]
    },
    {
     "name": "stderr",
     "output_type": "stream",
     "text": [
      "INFO:tensorflow:Assets written to: saved_models/lstm52/assets\n"
     ]
    },
    {
     "name": "stdout",
     "output_type": "stream",
     "text": [
      "1/1 [==============================] - 0s 30ms/step\n",
      "Feature: 5 Group: 1\n"
     ]
    }
   ],
   "source": [
    "train_lstm_model(model_dataset, lstm_model, min_f_size)"
   ]
  },
  {
   "cell_type": "code",
   "execution_count": null,
   "id": "5fb0d0e2",
   "metadata": {},
   "outputs": [],
   "source": []
  }
 ],
 "metadata": {
  "kernelspec": {
   "display_name": "Python 3 (ipykernel)",
   "language": "python",
   "name": "python3"
  },
  "language_info": {
   "codemirror_mode": {
    "name": "ipython",
    "version": 3
   },
   "file_extension": ".py",
   "mimetype": "text/x-python",
   "name": "python",
   "nbconvert_exporter": "python",
   "pygments_lexer": "ipython3",
   "version": "3.10.6"
  }
 },
 "nbformat": 4,
 "nbformat_minor": 5
}
